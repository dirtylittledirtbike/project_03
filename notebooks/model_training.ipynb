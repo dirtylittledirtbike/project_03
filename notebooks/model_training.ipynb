{
 "cells": [
  {
   "cell_type": "code",
   "execution_count": 1,
   "metadata": {},
   "outputs": [],
   "source": [
    "import pandas as pd\n",
    "import numpy as np\n",
    "import re\n",
    "from urlextract import URLExtract\n",
    "import matplotlib.pyplot as plt\n",
    "import pickle \n",
    "\n",
    "from src.model_insights import get_word_covariance, get_class_features\n",
    "\n",
    "extractor = URLExtract()"
   ]
  },
  {
   "cell_type": "code",
   "execution_count": 2,
   "metadata": {},
   "outputs": [],
   "source": [
    "train_df = pd.read_csv('/Users/collinswestnedge/programming/Metis_Online/project_03/data/jigsaw-toxic-comment-classification-challenge/train.csv')\n",
    "test_df_labels = pd.read_csv('/Users/collinswestnedge/programming/Metis_Online/project_03/data/jigsaw-toxic-comment-classification-challenge/test_labels.csv')\n",
    "test_df = pd.read_csv('/Users/collinswestnedge/programming/Metis_Online/project_03/data/jigsaw-toxic-comment-classification-challenge/test.csv')"
   ]
  },
  {
   "cell_type": "code",
   "execution_count": 3,
   "metadata": {},
   "outputs": [],
   "source": [
    "# replacing the -1 labels in test labels and \n",
    "# and joining it with the test.csv \n",
    "test_labels_temp = test_df_labels.replace(-1,np.nan)\n",
    "test_labels_clean = test_labels_temp.dropna()\n",
    "test_data = test_df.merge(test_labels_clean)"
   ]
  },
  {
   "cell_type": "code",
   "execution_count": 4,
   "metadata": {},
   "outputs": [],
   "source": [
    "def preprocess(data):\n",
    "    \n",
    "    def replace_urls(x):\n",
    "        urls = extractor.find_urls(x)\n",
    "        if urls:\n",
    "            x_new = replace_urls(x.replace(urls[0],''))\n",
    "            return x_new\n",
    "        else:\n",
    "            return x\n",
    "\n",
    "    data['comment_text'] = data.comment_text.map(lambda x: replace_urls(x))\n",
    "    #get rid of duplicate letters just trying this out may comment out later\n",
    "    data['comment_text'] = data.comment_text.map(lambda x: re.sub(r'(.)\\1{2,}', '', str(x).lower()))\n",
    "    # removing indents\n",
    "    data['comment_text'] = data.comment_text.map(lambda x: re.sub('\\\\n',' ',str(x)))\n",
    "    # remove weird user occurence \n",
    "    data['comment_text'] = data.comment_text.map(lambda x: re.sub(\"\\[\\[User.*\",'',str(x)))\n",
    "    # remove ip address\n",
    "    data['comment_text'] = data.comment_text.map(lambda x: re.sub(\"\\d{1,3}\\.\\d{1,3}\\.\\d{1,3}\\.\\d{1,3}\",'',str(x)))\n",
    "    \n",
    "    return data  "
   ]
  },
  {
   "cell_type": "code",
   "execution_count": 5,
   "metadata": {},
   "outputs": [],
   "source": [
    "from sklearn.metrics import roc_auc_score\n",
    "from sklearn.metrics import plot_roc_curve"
   ]
  },
  {
   "cell_type": "code",
   "execution_count": 6,
   "metadata": {},
   "outputs": [],
   "source": [
    "def get_metrics(classifier, X_train, y_train, X_test, y_test, plot_curve=False):\n",
    "    \n",
    "    # literally making this for my own practice \n",
    "    # i know theres a lot quicker/simpler ways\n",
    "    \n",
    "    model = classifier\n",
    "    model.fit(X_train, y_train)\n",
    "    preds = model.predict(X_test)\n",
    "    actuals = y_test\n",
    "    \n",
    "    print('-'*20 + ' ' + type(model).__name__  + ' ' + '-'*20)\n",
    "        \n",
    "    err_df = pd.DataFrame({'pred':preds, 'actual':actuals})\n",
    "\n",
    "    TP = err_df.actual[(err_df.actual==1) & (err_df.pred==1)].count()\n",
    "    print('TP: ', TP)\n",
    "    # False Positives:\n",
    "    FP = err_df.actual[(err_df.actual==0) & (err_df.pred==1)].count()\n",
    "    print('FP: ', FP)\n",
    "    # #True Negatives:\n",
    "    TN = err_df.actual[(err_df.actual==0) & (err_df.pred==0)].count()\n",
    "    print('TN: ', TN)\n",
    "    #False Negatives:\n",
    "    FN = err_df.actual[(err_df.actual==1) & (err_df.pred==0)].count()\n",
    "    print('FN: ', FN)\n",
    "    print()\n",
    "\n",
    "    precision = TP/(TP+FP)\n",
    "    recall =  TP/(TP+FN)\n",
    "    print('Precision:', precision)\n",
    "    print('Recall:', recall)\n",
    "    print('Accuracy:', model.score(X_test, y_test))\n",
    "    print('F1 Score:', 2*((precision*recall)/(precision+recall)))\n",
    "    \n",
    "    if plot_curve:\n",
    "        print('Area Under ROC Curve:', roc_auc_score(y_test, model.predict_proba(X_test)[:,1]))\n",
    "        fig, ax = plt.subplots(figsize=(6,4))\n",
    "        test_disp = plot_roc_curve(model, X_test, y_test, ax=ax, color='red', linewidth=3)\n",
    "        plt.show()"
   ]
  },
  {
   "cell_type": "code",
   "execution_count": 7,
   "metadata": {},
   "outputs": [],
   "source": [
    "train_clean = preprocess(train_df)"
   ]
  },
  {
   "cell_type": "code",
   "execution_count": 8,
   "metadata": {},
   "outputs": [],
   "source": [
    "test_clean = preprocess(test_data)"
   ]
  },
  {
   "cell_type": "code",
   "execution_count": 9,
   "metadata": {},
   "outputs": [],
   "source": [
    "# ---------------------- playing with count vectorizer ------------------------"
   ]
  },
  {
   "cell_type": "code",
   "execution_count": 10,
   "metadata": {
    "scrolled": false
   },
   "outputs": [],
   "source": [
    "from nltk import RegexpTokenizer\n",
    "from nltk import word_tokenize\n",
    "from nltk.stem import WordNetLemmatizer \n",
    "from nltk.stem import PorterStemmer\n",
    "from nltk.corpus import stopwords"
   ]
  },
  {
   "cell_type": "code",
   "execution_count": 12,
   "metadata": {},
   "outputs": [],
   "source": [
    "# found sorted/ the highest coefficients for both labels and then\n",
    "# looked where the the difference between the \n",
    "new_stop_words = ['anything',\n",
    " 'person',\n",
    " 'day',\n",
    " 'even',\n",
    " 'wrong',\n",
    " 'said',\n",
    " 'personal',\n",
    " 'message',\n",
    " 'site',\n",
    " 'vandalism',\n",
    " 'thing',\n",
    " 'keep',\n",
    " 'right',\n",
    " 'really',\n",
    " 'know',\n",
    " 'make',\n",
    " 'back',\n",
    " 'let',\n",
    " 'put',\n",
    " 'take',\n",
    " 'better',\n",
    " 'something',\n",
    " 'mean',\n",
    " 'say',\n",
    " 'want',\n",
    " 'never',\n",
    " 'think',\n",
    " 'fact',\n",
    " 'time',\n",
    " 'attack',\n",
    " 'warning',\n",
    " 'world',\n",
    " 'blocked',\n",
    " 'still',\n",
    " 'got',\n",
    " 'edits',\n",
    " 'someone',\n",
    " 'way',\n",
    " 'people',\n",
    " 'going',\n",
    " 'well',\n",
    " 'come',\n",
    " 'user',\n",
    " 'one',\n",
    " 'like',\n",
    " 'look',\n",
    " 'change',\n",
    " 'much',\n",
    " 'good',\n",
    " 'tell',\n",
    " 'day',\n",
    " 'even',\n",
    " 'said',\n",
    " 'vandalism',\n",
    " 'thing',\n",
    " 'keep',\n",
    " 'right',\n",
    " 'really',\n",
    " 'know',\n",
    " 'make',\n",
    " 'back',\n",
    " 'let',\n",
    " 'put',\n",
    " 'take',\n",
    " 'better',\n",
    " 'something',\n",
    " 'mean',\n",
    " 'say',\n",
    " 'want',\n",
    " 'think',\n",
    " 'fact',\n",
    " 'time',\n",
    " 'blocked',\n",
    " 'still',\n",
    " 'edits',\n",
    " 'someone',\n",
    " 'way',\n",
    " 'people',\n",
    " 'going',\n",
    " 'well',\n",
    " 'word',\n",
    " 'user',\n",
    " 'one',\n",
    " 'like',\n",
    " 'look',\n",
    " 'change',\n",
    " 'much',\n",
    " 'good',\n",
    " 'comment',\n",
    " 'read',\n",
    " 'many',\n",
    " 'reason',\n",
    " 'sorry',\n",
    " 'page',\n",
    " 'need',\n",
    " 'made',\n",
    " 'edit',\n",
    " 'place',\n",
    " 'name',\n",
    " 'block',\n",
    " 'wikipedia',\n",
    " 'wiki',\n",
    " 'gay']\n",
    "\n"
   ]
  },
  {
   "cell_type": "code",
   "execution_count": 56,
   "metadata": {},
   "outputs": [],
   "source": [
    "from nltk import RegexpTokenizer\n",
    "from nltk import word_tokenize\n",
    "from nltk.stem import WordNetLemmatizer \n",
    "from nltk.stem import PorterStemmer\n",
    "from nltk.corpus import stopwords\n",
    "from nltk.corpus import wordnet\n",
    "\n",
    "\n",
    "stop_words_complete = stopwords.words('english') + new_stop_words\n",
    "\n",
    "# pickling stop words so i can do this in different notebook\n",
    "# unfortunately pickling a class is hard so im going to have to\n",
    "# copy paste the tokenizer class over \n",
    "\n",
    "with open('stop_words.pickle', 'wb') as file:\n",
    "#     pickle.dump(my_tokenizer, file)\n",
    "    pickle.dump(stop_words_complete, file)\n",
    "    \n",
    "class Tokenizer(object):\n",
    "    def __init__(self):\n",
    "        self.pt = PorterStemmer()\n",
    "        self.wnl = WordNetLemmatizer()\n",
    "        self.tk = RegexpTokenizer(r'\\b[a-zA-Z]{3,}\\b')\n",
    "        self.stpwrd = set(stop_words_complete)\n",
    "        \n",
    "    def __call__(self, doc):\n",
    "#         return [self.wnl.lemmatize(t, wordnet.VERB) for t in self.tk.tokenize(doc) if not t in self.stpwrd]\n",
    "        return [self.wnl.lemmatize(t) for t in self.tk.tokenize(doc) if not t in self.stpwrd]\n",
    "\n",
    "\n",
    "my_tokenizer = Tokenizer()"
   ]
  },
  {
   "cell_type": "code",
   "execution_count": 49,
   "metadata": {},
   "outputs": [],
   "source": [
    "from sklearn.model_selection import StratifiedKFold\n",
    "from sklearn.feature_extraction.text import TfidfVectorizer\n",
    "from sklearn.naive_bayes import MultinomialNB \n",
    "from sklearn.metrics import accuracy_score\n",
    "from sklearn.model_selection import train_test_split\n",
    "from sklearn.model_selection import GridSearchCV\n",
    "from sklearn.linear_model import LogisticRegression\n",
    "\n",
    "\n"
   ]
  },
  {
   "cell_type": "code",
   "execution_count": 64,
   "metadata": {},
   "outputs": [],
   "source": [
    "# X, y = train_clean['comment_text'], train_clean['severe_toxic']\n",
    "X, y = train_clean['comment_text'], train_clean['toxic']\n",
    "\n",
    "X_train, X_val, y_train, y_val = train_test_split(X, y, test_size=0.20, random_state=1)\n",
    "\n",
    "vect = TfidfVectorizer(\n",
    "\n",
    "                      lowercase = True,\n",
    "                      token_pattern=None,\n",
    "                      tokenizer=my_tokenizer,\n",
    "                      ngram_range=(1, 1),\n",
    "                      max_features=8000\n",
    "\n",
    "                      )\n",
    "\n",
    "X_train_vect = vect.fit_transform(X_train)\n",
    "X_val_vect = vect.transform(X_val)"
   ]
  },
  {
   "cell_type": "code",
   "execution_count": 43,
   "metadata": {
    "scrolled": true
   },
   "outputs": [
    {
     "data": {
      "text/plain": [
       "0.9484255052483158"
      ]
     },
     "execution_count": 43,
     "metadata": {},
     "output_type": "execute_result"
    }
   ],
   "source": [
    "nb = MultinomialNB()\n",
    "nb.fit(X_train_vect, y_train)\n",
    "nb.score(X_val_vect, y_val)"
   ]
  },
  {
   "cell_type": "code",
   "execution_count": 66,
   "metadata": {},
   "outputs": [
    {
     "name": "stdout",
     "output_type": "stream",
     "text": [
      "Logistic Regression Accuracy: 0.9648002865137947\n",
      "Logistic Regression (best parameters) {'C': 1, 'penalty': 'l2'}\n"
     ]
    }
   ],
   "source": [
    "logreg = LogisticRegression(random_state=1, solver='liblinear')\n",
    "\n",
    "parameters = {'penalty': ['l1', 'l2'],\n",
    "              'C':[0.001,.009,0.01,.09,1,5,10,25]}\n",
    "\n",
    "loggreg_grid = GridSearchCV(logreg, param_grid=parameters, scoring ='roc_auc', cv=5)\n",
    "loggreg_grid.fit(X_train_vect, y_train)\n",
    "\n",
    "print(\"Logistic Regression Accuracy:\", loggreg_grid.best_score_)\n",
    "print(\"Logistic Regression (best parameters)\", loggreg_grid.best_params_)"
   ]
  },
  {
   "cell_type": "code",
   "execution_count": 67,
   "metadata": {
    "scrolled": true
   },
   "outputs": [
    {
     "data": {
      "text/plain": [
       "0.9569794767350775"
      ]
     },
     "execution_count": 67,
     "metadata": {},
     "output_type": "execute_result"
    }
   ],
   "source": [
    "log_reg = LogisticRegression(C=1, solver='liblinear', penalty='l2', random_state=1)\n",
    "log_reg.fit(X_train_vect, y_train)\n",
    "log_reg.score(X_val_vect, y_val)"
   ]
  },
  {
   "cell_type": "code",
   "execution_count": 68,
   "metadata": {
    "scrolled": true
   },
   "outputs": [
    {
     "name": "stdout",
     "output_type": "stream",
     "text": [
      "-------------------- LogisticRegression --------------------\n",
      "TP:  1921\n",
      "FP:  191\n",
      "TN:  28621\n",
      "FN:  1182\n",
      "\n",
      "Precision: 0.9095643939393939\n",
      "Recall: 0.6190783113116339\n",
      "Accuracy: 0.9569794767350775\n",
      "F1 Score: 0.7367209971236817\n",
      "Area Under ROC Curve: 0.9656504574377714\n"
     ]
    },
    {
     "data": {
      "image/png": "[encoded data removed]",
      "text/plain": [
       "<Figure size 432x288 with 1 Axes>"
      ]
     },
     "metadata": {
      "needs_background": "light"
     },
     "output_type": "display_data"
    }
   ],
   "source": [
    "get_metrics(LogisticRegression(C=1, solver='liblinear', penalty='l2', random_state=1), X_train_vect, y_train, X_val_vect, y_val, plot_curve=True)"
   ]
  },
  {
   "cell_type": "code",
   "execution_count": null,
   "metadata": {},
   "outputs": [],
   "source": [
    "# with open('vectorizer.pickle', 'wb') as file:\n",
    "#     # pickling vectorizer and vectorized data\n",
    "#     pickle.dump(vect, file)\n",
    "#     pickle.dump(X_train_vect, file)\n",
    "#     pickle.dump(X_val_vect, file)\n",
    "    \n",
    "#     # pickling fitted model\n",
    "#     pickle.dump(nb, file)"
   ]
  },
  {
   "cell_type": "code",
   "execution_count": null,
   "metadata": {},
   "outputs": [],
   "source": [
    "get_metrics(MultinomialNB(), X_train_vect, y_train, X_val_vect, y_val, plot_curve=True)"
   ]
  },
  {
   "cell_type": "code",
   "execution_count": null,
   "metadata": {},
   "outputs": [],
   "source": [
    "df, cov = get_word_covariance(vect, nb, n=5, top=True)\n",
    "temp = df.reset_index()\n",
    "filtered_temp = temp.sort_values(by=['toxic_coefs'], ascending=False)\n",
    "filtered_temp"
   ]
  },
  {
   "cell_type": "code",
   "execution_count": null,
   "metadata": {},
   "outputs": [],
   "source": [
    "df, cov = get_word_covariance(vect, nb, n=2000)\n",
    "temp = df.reset_index()\n",
    "filtered_temp = temp.sort_values(by=['non_toxic_coefs'], ascending=False)\n",
    "filtered_temp"
   ]
  },
  {
   "cell_type": "code",
   "execution_count": null,
   "metadata": {
    "scrolled": false
   },
   "outputs": [],
   "source": [
    "# get highest coefficients for model\n",
    "# sort dataframe by highest toxic coefficients and THEN\n",
    "# look where coefficients have small difference for both labels\n",
    "# and use this to create stop words\n",
    "\n",
    "df, cov = get_word_covariance(vect, nb, n=100)\n",
    "temp = df.reset_index()\n",
    "filtered_temp = temp.sort_values(by=['toxic_coefs'], ascending=False)\n",
    "filtered_temp = filtered_temp[(filtered_temp.non_toxic_coefs.notnull()) & (filtered_temp.toxic_coefs.notnull())].head(100).copy()\n",
    "filtered_temp['coefficient_diff'] = (filtered_temp['non_toxic_coefs'] - filtered_temp['toxic_coefs'])**2\n",
    "filtered_temp.sort_values(by=['coefficient_diff']).head(10)\n"
   ]
  },
  {
   "cell_type": "code",
   "execution_count": null,
   "metadata": {},
   "outputs": [],
   "source": [
    "df, cov = get_word_covariance(vect, nb, n=100)\n",
    "temp = df.reset_index()\n",
    "filtered_temp = temp.sort_values(by=['non_toxic_coefs'], ascending=False)\n",
    "filtered_temp = filtered_temp[(filtered_temp.non_toxic_coefs.notnull()) & (filtered_temp.toxic_coefs.notnull())].head(100).copy()\n",
    "filtered_temp['coefficient_diff'] = (filtered_temp['non_toxic_coefs'] - filtered_temp['toxic_coefs'])**2\n",
    "filtered_temp.sort_values(by=['coefficient_diff']).head(10)"
   ]
  },
  {
   "cell_type": "code",
   "execution_count": null,
   "metadata": {
    "scrolled": true
   },
   "outputs": [],
   "source": [
    "df = get_word_covariance(vect, nb, n=1000, top=False)\n",
    "df"
   ]
  },
  {
   "cell_type": "code",
   "execution_count": null,
   "metadata": {},
   "outputs": [],
   "source": [
    "from sklearn.decomposition import NMF\n",
    "\n",
    "topics = 20\n",
    "cols = ['topic' + str(i+1) for i in range(topics)]\n",
    "nmf = NMF(n_components=topics, random_state=1,\n",
    "          alpha=.1, l1_ratio=.5).fit(X_train_vect)\n",
    "\n",
    "topic_df = pd.DataFrame(nmf.components_, index=cols, columns=vect.get_feature_names()).T"
   ]
  },
  {
   "cell_type": "code",
   "execution_count": null,
   "metadata": {},
   "outputs": [],
   "source": [
    "def print_top_words(model, feature_names, n_top_words):\n",
    "    for topic_idx, topic in enumerate(model.components_):\n",
    "        message = \"Topic #%d: \" % topic_idx\n",
    "        message += \" \".join([feature_names[i]\n",
    "                             for i in topic.argsort()[:-n_top_words - 1:-1]])\n",
    "        print(message)\n",
    "    print()\n",
    "\n",
    "tfidf_feature_names = vect.get_feature_names()\n",
    "n_top_words = 20\n",
    "print_top_words(nmf, tfidf_feature_names, n_top_words)  "
   ]
  },
  {
   "cell_type": "code",
   "execution_count": null,
   "metadata": {},
   "outputs": [],
   "source": [
    "neg, pos = get_class_features(vect, nb, n=10, top=True)\n",
    "topic_formatted = topic_df.T[pos].T"
   ]
  },
  {
   "cell_type": "code",
   "execution_count": null,
   "metadata": {},
   "outputs": [],
   "source": [
    "pos"
   ]
  },
  {
   "cell_type": "code",
   "execution_count": null,
   "metadata": {},
   "outputs": [],
   "source": [
    "topic_formatted"
   ]
  },
  {
   "cell_type": "code",
   "execution_count": null,
   "metadata": {},
   "outputs": [],
   "source": [
    "import seaborn as sns\n",
    "\n",
    "\n",
    "def graph_topic(words,topic=[1,2]):\n",
    "    topic_formatted = topic_df.T[words].T\n",
    "    if len(topic) == 2:\n",
    "        cols = ['topic'+str(val) for val in topic]\n",
    "        plt.figure(figsize=[5,12])\n",
    "        plt.barh(topic_formatted.index, topic_formatted[cols[0]])\n",
    "        plt.barh(topic_formatted.index, topic_formatted[cols[1]])\n",
    "    else:\n",
    "        print('redo')\n",
    "# plt.xticks(rotation=90);"
   ]
  },
  {
   "cell_type": "code",
   "execution_count": null,
   "metadata": {},
   "outputs": [],
   "source": [
    "graph_topic(pos,[1,17])"
   ]
  },
  {
   "cell_type": "code",
   "execution_count": null,
   "metadata": {
    "scrolled": true
   },
   "outputs": [],
   "source": [
    "from sklearn.decomposition import TruncatedSVD, PCA\n",
    "\n",
    "topics = 5\n",
    "cols = ['topic' + str(i+1) for i in range(topics)]\n",
    "svd = TruncatedSVD(n_components=topics)\n",
    "lsa = svd.fit_transform(X_vect)\n",
    "lsa_df = pd.DataFrame(lsa, columns=cols)\n",
    "lsa_df['document'] = train_df['comment_text']\n",
    "lsa_df['toxic'] = train_df.toxic\n",
    "lsa_df"
   ]
  },
  {
   "cell_type": "code",
   "execution_count": null,
   "metadata": {},
   "outputs": [],
   "source": [
    "# i think i may be indexing into these wrong look/fix later\n",
    "neg, pos = get_class_features(vect, nb, n=20, top=True, indices=True)\n",
    "lsa_df.iloc[neg]"
   ]
  },
  {
   "cell_type": "code",
   "execution_count": null,
   "metadata": {},
   "outputs": [],
   "source": [
    "pd.DataFrame(svd.components_, index=cols, columns=vect.get_feature_names()).T"
   ]
  },
  {
   "cell_type": "code",
   "execution_count": null,
   "metadata": {},
   "outputs": [],
   "source": [
    "# pca = PCA(2)\n",
    "# X = pca.fit_transform(df)"
   ]
  },
  {
   "cell_type": "code",
   "execution_count": null,
   "metadata": {},
   "outputs": [],
   "source": [
    "df, cov = get_word_covariance(vect, nb, n=1000, top=True)\n",
    "# cov['hate'].sort_values(ascending=False).to_frame()\n",
    "cov['please'].sort_values(ascending=False).to_frame()\n",
    "\n"
   ]
  },
  {
   "cell_type": "code",
   "execution_count": 123,
   "metadata": {},
   "outputs": [
    {
     "name": "stdout",
     "output_type": "stream",
     "text": [
      "pair of jew hating weiner nazi schmucks\n"
     ]
    }
   ],
   "source": [
    "doc = train_df[train_df['comment_text'].str.contains('nazi') & (train_df.toxic==1)].comment_text.values[1]\n",
    "\n",
    "sub = '(\\w*)\\W*(\\w*)\\W*(\\w*)\\W*(\\w*)\\W*(\\w*)\\W*({})\\W*(\\w*)\\W*(\\w*)\\W*(\\w*)\\W*(\\w*)\\W*(\\w*)'.format('nazi')\n",
    "str1 = doc\n",
    "for i in re.findall(sub, str1, re.I):\n",
    "    print (\" \".join([x for x in i if x != \"\"]))"
   ]
  },
  {
   "cell_type": "code",
   "execution_count": 106,
   "metadata": {},
   "outputs": [
    {
     "name": "stdout",
     "output_type": "stream",
     "text": [
      "member of the american nazi party 91 further evidence of\n",
      "subcultures transversally as the nazi s did through a process\n"
     ]
    }
   ],
   "source": [
    "doc = train_df[train_df['comment_text'].str.contains('nazi')&(train_df.toxic==0)].comment_text.values[3]\n",
    "\n",
    "sub = '(\\w*)\\W*(\\w*)\\W*(\\w*)\\W*(\\w*)\\W*({})\\W*(\\w*)\\W*(\\w*)\\W*(\\w*)\\W*(\\w*)\\W*(\\w*)'.format('nazi')\n",
    "str1 = doc\n",
    "for i in re.findall(sub, str1, re.I):\n",
    "    print (\" \".join([x for x in i if x != \"\"]))"
   ]
  },
  {
   "cell_type": "code",
   "execution_count": 122,
   "metadata": {},
   "outputs": [
    {
     "name": "stdout",
     "output_type": "stream",
     "text": [
      "fuck off u gay boy u r smelly fuck ur mum poopie\n"
     ]
    }
   ],
   "source": [
    "doc = train_df[train_df['comment_text'].str.contains('gay')&(train_df.toxic==1)].comment_text.values[1]\n",
    "\n",
    "sub = '(\\w*)\\W*(\\w*)\\W*(\\w*)\\W*({})\\W*(\\w*)\\W*(\\w*)\\W*(\\w*)\\W*(\\w*)\\W*(\\w*)\\W*(\\w*)\\W*(\\w*)\\W*(\\w*)'.format('gay')\n",
    "str1 = doc\n",
    "for i in re.findall(sub, str1, re.I):\n",
    "    print (\" \".join([x for x in i if x != \"\"]))"
   ]
  },
  {
   "cell_type": "code",
   "execution_count": 119,
   "metadata": {},
   "outputs": [
    {
     "name": "stdout",
     "output_type": "stream",
     "text": [
      "the oppression of gay s and women the persecution of dissenting minorities\n"
     ]
    }
   ],
   "source": [
    "doc = train_df[train_df['comment_text'].str.contains('gay')&(train_df.toxic==0)].comment_text.values[16]\n",
    "\n",
    "sub = '(\\w*)\\W*(\\w*)\\W*(\\w*)\\W*({})\\W*(\\w*)\\W*(\\w*)\\W*(\\w*)\\W*(\\w*)\\W*(\\w*)\\W*(\\w*)\\W*(\\w*)\\W*(\\w*)'.format('gay')\n",
    "str1 = doc\n",
    "for i in re.findall(sub, str1, re.I):\n",
    "    print (\" \".join([x for x in i if x != \"\"]))\n"
   ]
  },
  {
   "cell_type": "code",
   "execution_count": 32,
   "metadata": {
    "scrolled": false
   },
   "outputs": [
    {
     "name": "stdout",
     "output_type": "stream",
     "text": [
      "----------------------------------------------------------------------------------------------------\n",
      "weiner\n",
      "nazi\n",
      "schmucks\n",
      "----------------------------------------------------------------------------------------------------\n",
      "american\n",
      "nazi\n",
      "party\n"
     ]
    }
   ],
   "source": [
    "testing = train_df[train_df['comment_text'].str.contains('nazi') & (train_df.toxic==1)].comment_text.values[1]\n",
    "\n",
    "print('-'*100)\n",
    "tokenized_test = np.array(my_tokenizer(testing), dtype=np.object)\n",
    "idx = np.where(tokenized_test=='nazi')[0]\n",
    "\n",
    "if len(idx) > 0:\n",
    "    for item in idx:\n",
    "        if item > 0:\n",
    "            print(tokenized_test[item-1])\n",
    "        print(tokenized_test[item])\n",
    "        if item < len(tokenized_test) -1:\n",
    "            print(tokenized_test[item+1])\n",
    "\n",
    "\n",
    "testing = train_df[train_df['comment_text'].str.contains('nazi')&(train_df.toxic==0)].comment_text.values[3]\n",
    "\n",
    "print('-'*100)\n",
    "tokenized_test = np.array(my_tokenizer(testing), dtype=np.object)\n",
    "idx = np.where(tokenized_test=='nazi')[0]\n",
    "\n",
    "if len(idx) > 0:\n",
    "    for item in idx:\n",
    "        if item > 0:\n",
    "            print(tokenized_test[item-1])\n",
    "        print(tokenized_test[item])\n",
    "        if item < len(tokenized_test) -1:\n",
    "            print(tokenized_test[item+1])\n"
   ]
  },
  {
   "cell_type": "code",
   "execution_count": 70,
   "metadata": {
    "scrolled": true
   },
   "outputs": [
    {
     "name": "stdout",
     "output_type": "stream",
     "text": [
      "-------------------- MultinomialNB --------------------\n",
      "TP:  3470\n",
      "FP:  1481\n",
      "TN:  56407\n",
      "FN:  2620\n",
      "\n",
      "Precision: 0.700868511411836\n",
      "Recall: 0.5697865353037767\n",
      "Accuracy: 0.935899840570196\n",
      "F1 Score: 0.6285662530567883\n",
      "Area Under ROC Curve: 0.9441192638227399\n"
     ]
    },
    {
     "data": {
      "image/png": "[encoded data removed]",
      "text/plain": [
       "<Figure size 432x288 with 1 Axes>"
      ]
     },
     "metadata": {
      "needs_background": "light"
     },
     "output_type": "display_data"
    }
   ],
   "source": [
    "X_holdout = test_clean.comment_text\n",
    "y_holdout = test_clean.toxic\n",
    "\n",
    "vect = TfidfVectorizer(\n",
    "                      lowercase = True,\n",
    "                      token_pattern=None,\n",
    "                      tokenizer=my_tokenizer,\n",
    "                      ngram_range=(1, 1),\n",
    "                      max_features=8000\n",
    "                      )\n",
    "\n",
    "X_train_vect = vect.fit_transform(X)\n",
    "X_holdout_vect = vect.transform(X_holdout)\n",
    "\n",
    "# nb = MultinomialNB()\n",
    "# nb.fit(X_train_vect, y)\n",
    "# nb.score(X_holdout_vect, y_holdout)\n",
    "\n",
    "# pickling the vectorized data from training set so we can do \n",
    "# eda in another notebook\n",
    "get_metrics(MultinomialNB(), X_train_vect, y, X_holdout_vect, y_holdout, plot_curve=True)"
   ]
  },
  {
   "cell_type": "code",
   "execution_count": 75,
   "metadata": {
    "scrolled": true
   },
   "outputs": [
    {
     "name": "stdout",
     "output_type": "stream",
     "text": [
      "-------------------- LogisticRegression --------------------\n",
      "TP:  4344\n",
      "FP:  2535\n",
      "TN:  55353\n",
      "FN:  1746\n",
      "\n",
      "Precision: 0.631487134757959\n",
      "Recall: 0.7133004926108374\n",
      "Accuracy: 0.9330863734408703\n",
      "F1 Score: 0.6699051584547768\n",
      "Area Under ROC Curve: 0.9550507800692758\n"
     ]
    },
    {
     "data": {
      "image/png": "[encoded data removed]",
      "text/plain": [
       "<Figure size 432x288 with 1 Axes>"
      ]
     },
     "metadata": {
      "needs_background": "light"
     },
     "output_type": "display_data"
    }
   ],
   "source": [
    "get_metrics(LogisticRegression(C=1, solver='liblinear', penalty='l2', random_state=1),\n",
    "            X_train_vect, y, X_holdout_vect, y_holdout, plot_curve=True)\n",
    "\n",
    "\n"
   ]
  },
  {
   "cell_type": "code",
   "execution_count": null,
   "metadata": {},
   "outputs": [],
   "source": [
    "# -------------------- LogisticRegression --------------------\n",
    "\n",
    "# TP:  4663\n",
    "# FP:  3245\n",
    "# TN:  54643\n",
    "# FN:  1427\n",
    "\n",
    "# Precision: 0.5896560445118867\n",
    "# Recall: 0.7656814449917898\n",
    "# Accuracy: 0.9269748976210572\n",
    "# F1 Score: 0.6662380340048578\n",
    "# Area Under ROC Curve: 0.9549452495776908"
   ]
  },
  {
   "cell_type": "code",
   "execution_count": null,
   "metadata": {},
   "outputs": [],
   "source": [
    "# -------------------- MultinomialNB --------------------\n",
    "# TP:  3589\n",
    "# FP:  1581\n",
    "# TN:  56307\n",
    "# FN:  2501\n",
    "\n",
    "# Precision: 0.6941972920696325\n",
    "# Recall: 0.5893267651888342\n",
    "# Accuracy: 0.9361968176560693\n",
    "# F1 Score: 0.6374777975133215\n",
    "# Area Under ROC Curve: 0.9468701678956976"
   ]
  },
  {
   "cell_type": "code",
   "execution_count": null,
   "metadata": {},
   "outputs": [],
   "source": [
    "# with open('vectorizer.pickle', 'wb') as file:\n",
    "# #     pickling trained and vectorized data\n",
    "#     pickle.dump(vect, file)\n",
    "#     pickle.dump(X_train_vect, file)\n",
    "#     pickle.dump(X_holdout_vect, file)\n",
    "    \n",
    "#     # pickling fitted model\n",
    "#     pickle.dump(nb, file)"
   ]
  },
  {
   "cell_type": "code",
   "execution_count": null,
   "metadata": {
    "scrolled": true
   },
   "outputs": [],
   "source": [
    "get_metrics(MultinomialNB(), X_train_vect, y, X_holdout_vect, y_holdout, plot_curve=True)"
   ]
  },
  {
   "cell_type": "code",
   "execution_count": null,
   "metadata": {},
   "outputs": [],
   "source": [
    "# TP:  3588\n",
    "# FP:  1579\n",
    "# TN:  56309\n",
    "# FN:  2502\n",
    "\n",
    "# Precision: 0.694406812463712\n",
    "# Recall: 0.5891625615763547\n",
    "# Accuracy: 0.9362124480290099\n",
    "# F1 Score: 0.637470018655059\n",
    "# Area Under ROC Curve: 0.9470568584508582"
   ]
  },
  {
   "cell_type": "code",
   "execution_count": 131,
   "metadata": {},
   "outputs": [],
   "source": [
    "train_temp = train_df.copy()\n",
    "train_temp['comment_lower'] = train_temp.comment_text.apply(lambda x : x.lower())"
   ]
  },
  {
   "cell_type": "code",
   "execution_count": 147,
   "metadata": {},
   "outputs": [
    {
     "data": {
      "text/html": [
       "<div>\n",
       "<style scoped>\n",
       "    .dataframe tbody tr th:only-of-type {\n",
       "        vertical-align: middle;\n",
       "    }\n",
       "\n",
       "    .dataframe tbody tr th {\n",
       "        vertical-align: top;\n",
       "    }\n",
       "\n",
       "    .dataframe thead th {\n",
       "        text-align: right;\n",
       "    }\n",
       "</style>\n",
       "<table border=\"1\" class=\"dataframe\">\n",
       "  <thead>\n",
       "    <tr style=\"text-align: right;\">\n",
       "      <th></th>\n",
       "      <th>id</th>\n",
       "      <th>comment_text</th>\n",
       "      <th>toxic</th>\n",
       "      <th>severe_toxic</th>\n",
       "      <th>obscene</th>\n",
       "      <th>threat</th>\n",
       "      <th>insult</th>\n",
       "      <th>identity_hate</th>\n",
       "    </tr>\n",
       "  </thead>\n",
       "  <tbody>\n",
       "    <tr>\n",
       "      <th>0</th>\n",
       "      <td>00001cee341fdb12</td>\n",
       "      <td>Yo bitch Ja Rule is more succesful then you'll...</td>\n",
       "      <td>NaN</td>\n",
       "      <td>NaN</td>\n",
       "      <td>NaN</td>\n",
       "      <td>NaN</td>\n",
       "      <td>NaN</td>\n",
       "      <td>NaN</td>\n",
       "    </tr>\n",
       "    <tr>\n",
       "      <th>1</th>\n",
       "      <td>0000247867823ef7</td>\n",
       "      <td>== From RfC == \\n\\n The title is fine as it is...</td>\n",
       "      <td>NaN</td>\n",
       "      <td>NaN</td>\n",
       "      <td>NaN</td>\n",
       "      <td>NaN</td>\n",
       "      <td>NaN</td>\n",
       "      <td>NaN</td>\n",
       "    </tr>\n",
       "    <tr>\n",
       "      <th>2</th>\n",
       "      <td>00013b17ad220c46</td>\n",
       "      <td>\" \\n\\n == Sources == \\n\\n * Zawe Ashton on Lap...</td>\n",
       "      <td>NaN</td>\n",
       "      <td>NaN</td>\n",
       "      <td>NaN</td>\n",
       "      <td>NaN</td>\n",
       "      <td>NaN</td>\n",
       "      <td>NaN</td>\n",
       "    </tr>\n",
       "    <tr>\n",
       "      <th>3</th>\n",
       "      <td>00017563c3f7919a</td>\n",
       "      <td>:If you have a look back at the source, the in...</td>\n",
       "      <td>NaN</td>\n",
       "      <td>NaN</td>\n",
       "      <td>NaN</td>\n",
       "      <td>NaN</td>\n",
       "      <td>NaN</td>\n",
       "      <td>NaN</td>\n",
       "    </tr>\n",
       "    <tr>\n",
       "      <th>4</th>\n",
       "      <td>00017695ad8997eb</td>\n",
       "      <td>I don't anonymously edit articles at all.</td>\n",
       "      <td>NaN</td>\n",
       "      <td>NaN</td>\n",
       "      <td>NaN</td>\n",
       "      <td>NaN</td>\n",
       "      <td>NaN</td>\n",
       "      <td>NaN</td>\n",
       "    </tr>\n",
       "    <tr>\n",
       "      <th>...</th>\n",
       "      <td>...</td>\n",
       "      <td>...</td>\n",
       "      <td>...</td>\n",
       "      <td>...</td>\n",
       "      <td>...</td>\n",
       "      <td>...</td>\n",
       "      <td>...</td>\n",
       "      <td>...</td>\n",
       "    </tr>\n",
       "    <tr>\n",
       "      <th>63973</th>\n",
       "      <td>fff8f64043129fa2</td>\n",
       "      <td>:jerome, i see you never got around to this…! ...</td>\n",
       "      <td>0.0</td>\n",
       "      <td>0.0</td>\n",
       "      <td>0.0</td>\n",
       "      <td>0.0</td>\n",
       "      <td>0.0</td>\n",
       "      <td>0.0</td>\n",
       "    </tr>\n",
       "    <tr>\n",
       "      <th>63974</th>\n",
       "      <td>fff9d70fe0722906</td>\n",
       "      <td>==lucky bastard==       heh you are famous now...</td>\n",
       "      <td>0.0</td>\n",
       "      <td>0.0</td>\n",
       "      <td>0.0</td>\n",
       "      <td>0.0</td>\n",
       "      <td>0.0</td>\n",
       "      <td>0.0</td>\n",
       "    </tr>\n",
       "    <tr>\n",
       "      <th>63975</th>\n",
       "      <td>fffa8a11c4378854</td>\n",
       "      <td>==shame on you all==    you want to speak abou...</td>\n",
       "      <td>0.0</td>\n",
       "      <td>0.0</td>\n",
       "      <td>0.0</td>\n",
       "      <td>0.0</td>\n",
       "      <td>0.0</td>\n",
       "      <td>0.0</td>\n",
       "    </tr>\n",
       "    <tr>\n",
       "      <th>63976</th>\n",
       "      <td>fffac2a094c8e0e2</td>\n",
       "      <td>mel gibson is a nazi bitch who makes shitty mo...</td>\n",
       "      <td>1.0</td>\n",
       "      <td>0.0</td>\n",
       "      <td>1.0</td>\n",
       "      <td>0.0</td>\n",
       "      <td>1.0</td>\n",
       "      <td>0.0</td>\n",
       "    </tr>\n",
       "    <tr>\n",
       "      <th>63977</th>\n",
       "      <td>fffb5451268fb5ba</td>\n",
       "      <td>\"    == unicorn lair discovery ==    supposedl...</td>\n",
       "      <td>0.0</td>\n",
       "      <td>0.0</td>\n",
       "      <td>0.0</td>\n",
       "      <td>0.0</td>\n",
       "      <td>0.0</td>\n",
       "      <td>0.0</td>\n",
       "    </tr>\n",
       "  </tbody>\n",
       "</table>\n",
       "<p>217142 rows × 8 columns</p>\n",
       "</div>"
      ],
      "text/plain": [
       "                     id                                       comment_text  \\\n",
       "0      00001cee341fdb12  Yo bitch Ja Rule is more succesful then you'll...   \n",
       "1      0000247867823ef7  == From RfC == \\n\\n The title is fine as it is...   \n",
       "2      00013b17ad220c46  \" \\n\\n == Sources == \\n\\n * Zawe Ashton on Lap...   \n",
       "3      00017563c3f7919a  :If you have a look back at the source, the in...   \n",
       "4      00017695ad8997eb          I don't anonymously edit articles at all.   \n",
       "...                 ...                                                ...   \n",
       "63973  fff8f64043129fa2  :jerome, i see you never got around to this…! ...   \n",
       "63974  fff9d70fe0722906  ==lucky bastard==       heh you are famous now...   \n",
       "63975  fffa8a11c4378854  ==shame on you all==    you want to speak abou...   \n",
       "63976  fffac2a094c8e0e2  mel gibson is a nazi bitch who makes shitty mo...   \n",
       "63977  fffb5451268fb5ba  \"    == unicorn lair discovery ==    supposedl...   \n",
       "\n",
       "       toxic  severe_toxic  obscene  threat  insult  identity_hate  \n",
       "0        NaN           NaN      NaN     NaN     NaN            NaN  \n",
       "1        NaN           NaN      NaN     NaN     NaN            NaN  \n",
       "2        NaN           NaN      NaN     NaN     NaN            NaN  \n",
       "3        NaN           NaN      NaN     NaN     NaN            NaN  \n",
       "4        NaN           NaN      NaN     NaN     NaN            NaN  \n",
       "...      ...           ...      ...     ...     ...            ...  \n",
       "63973    0.0           0.0      0.0     0.0     0.0            0.0  \n",
       "63974    0.0           0.0      0.0     0.0     0.0            0.0  \n",
       "63975    0.0           0.0      0.0     0.0     0.0            0.0  \n",
       "63976    1.0           0.0      1.0     0.0     1.0            0.0  \n",
       "63977    0.0           0.0      0.0     0.0     0.0            0.0  \n",
       "\n",
       "[217142 rows x 8 columns]"
      ]
     },
     "execution_count": 147,
     "metadata": {},
     "output_type": "execute_result"
    }
   ],
   "source": [
    "all_data = pd.concat([test_df, test_data])"
   ]
  },
  {
   "cell_type": "code",
   "execution_count": 165,
   "metadata": {},
   "outputs": [],
   "source": [
    "totals = []\n",
    "word_list = ['black', 'gay', 'muslim', 'jew','jewish', 'hispanic', 'mexican', 'lesbian', 'homosexual', 'feminism', 'feminist', 'transgender']\n",
    "for item in word_list:\n",
    "    toxic = train_temp[(train_temp.toxic==1)&(train_temp.comment_lower.str.contains(item))].shape[0]\n",
    "    total = train_temp[train_temp.comment_text.str.contains(item)].shape[0]\n",
    "    if toxic:\n",
    "        totals.append([item, toxic/total])"
   ]
  },
  {
   "cell_type": "code",
   "execution_count": 166,
   "metadata": {},
   "outputs": [
    {
     "data": {
      "text/html": [
       "<div>\n",
       "<style scoped>\n",
       "    .dataframe tbody tr th:only-of-type {\n",
       "        vertical-align: middle;\n",
       "    }\n",
       "\n",
       "    .dataframe tbody tr th {\n",
       "        vertical-align: top;\n",
       "    }\n",
       "\n",
       "    .dataframe thead th {\n",
       "        text-align: right;\n",
       "    }\n",
       "</style>\n",
       "<table border=\"1\" class=\"dataframe\">\n",
       "  <thead>\n",
       "    <tr style=\"text-align: right;\">\n",
       "      <th></th>\n",
       "      <th>word</th>\n",
       "      <th>percent labeled toxic</th>\n",
       "    </tr>\n",
       "  </thead>\n",
       "  <tbody>\n",
       "    <tr>\n",
       "      <th>1</th>\n",
       "      <td>gay</td>\n",
       "      <td>0.548096</td>\n",
       "    </tr>\n",
       "    <tr>\n",
       "      <th>8</th>\n",
       "      <td>homosexual</td>\n",
       "      <td>0.383562</td>\n",
       "    </tr>\n",
       "    <tr>\n",
       "      <th>7</th>\n",
       "      <td>lesbian</td>\n",
       "      <td>0.303797</td>\n",
       "    </tr>\n",
       "    <tr>\n",
       "      <th>6</th>\n",
       "      <td>mexican</td>\n",
       "      <td>0.223776</td>\n",
       "    </tr>\n",
       "    <tr>\n",
       "      <th>11</th>\n",
       "      <td>transgender</td>\n",
       "      <td>0.206897</td>\n",
       "    </tr>\n",
       "    <tr>\n",
       "      <th>3</th>\n",
       "      <td>jew</td>\n",
       "      <td>0.162019</td>\n",
       "    </tr>\n",
       "    <tr>\n",
       "      <th>0</th>\n",
       "      <td>black</td>\n",
       "      <td>0.124219</td>\n",
       "    </tr>\n",
       "    <tr>\n",
       "      <th>10</th>\n",
       "      <td>feminist</td>\n",
       "      <td>0.118421</td>\n",
       "    </tr>\n",
       "    <tr>\n",
       "      <th>5</th>\n",
       "      <td>hispanic</td>\n",
       "      <td>0.115789</td>\n",
       "    </tr>\n",
       "    <tr>\n",
       "      <th>2</th>\n",
       "      <td>muslim</td>\n",
       "      <td>0.104839</td>\n",
       "    </tr>\n",
       "    <tr>\n",
       "      <th>4</th>\n",
       "      <td>jewish</td>\n",
       "      <td>0.091029</td>\n",
       "    </tr>\n",
       "    <tr>\n",
       "      <th>9</th>\n",
       "      <td>feminism</td>\n",
       "      <td>0.045455</td>\n",
       "    </tr>\n",
       "  </tbody>\n",
       "</table>\n",
       "</div>"
      ],
      "text/plain": [
       "           word  percent labeled toxic\n",
       "1           gay               0.548096\n",
       "8    homosexual               0.383562\n",
       "7       lesbian               0.303797\n",
       "6       mexican               0.223776\n",
       "11  transgender               0.206897\n",
       "3           jew               0.162019\n",
       "0         black               0.124219\n",
       "10     feminist               0.118421\n",
       "5      hispanic               0.115789\n",
       "2        muslim               0.104839\n",
       "4        jewish               0.091029\n",
       "9      feminism               0.045455"
      ]
     },
     "execution_count": 166,
     "metadata": {},
     "output_type": "execute_result"
    }
   ],
   "source": [
    "df = pd.DataFrame(totals)\n",
    "df.columns = ['word', 'percent labeled toxic']\n",
    "df.sort_values(by=['percent labeled toxic'], ascending=False)"
   ]
  },
  {
   "cell_type": "code",
   "execution_count": null,
   "metadata": {},
   "outputs": [],
   "source": []
  },
  {
   "cell_type": "code",
   "execution_count": null,
   "metadata": {},
   "outputs": [],
   "source": []
  }
 ],
 "metadata": {
  "kernelspec": {
   "display_name": "Python 3",
   "language": "python",
   "name": "python3"
  },
  "language_info": {
   "codemirror_mode": {
    "name": "ipython",
    "version": 3
   },
   "file_extension": ".py",
   "mimetype": "text/x-python",
   "name": "python",
   "nbconvert_exporter": "python",
   "pygments_lexer": "ipython3",
   "version": "3.7.4"
  }
 },
 "nbformat": 4,
 "nbformat_minor": 4
}
