{
 "cells": [
  {
   "cell_type": "code",
   "execution_count": 2,
   "metadata": {},
   "outputs": [],
   "source": [
    "import pandas as pd\n",
    "import numpy as np\n",
    "import matplotlib.pyplot as plt\n",
    "import pickle\n",
    "\n",
    "from nltk import RegexpTokenizer\n",
    "from nltk import word_tokenize\n",
    "from nltk.stem import WordNetLemmatizer \n",
    "from nltk.stem import PorterStemmer\n",
    "from nltk.corpus import stopwords\n",
    "import plotly.express as px\n",
    "\n",
    "from src.model_insights import get_word_covariance, get_class_features"
   ]
  },
  {
   "cell_type": "code",
   "execution_count": 3,
   "metadata": {},
   "outputs": [],
   "source": [
    "train_df = pd.read_csv('/Users/collinswestnedge/programming/Metis_Online/project_03/data/jigsaw-toxic-comment-classification-challenge/train.csv')\n",
    "test_df_labels = pd.read_csv('/Users/collinswestnedge/programming/Metis_Online/project_03/data/jigsaw-toxic-comment-classification-challenge/test_labels.csv')\n",
    "test_df = pd.read_csv('/Users/collinswestnedge/programming/Metis_Online/project_03/data/jigsaw-toxic-comment-classification-challenge/test.csv')"
   ]
  },
  {
   "cell_type": "code",
   "execution_count": null,
   "metadata": {},
   "outputs": [],
   "source": [
    "[]"
   ]
  },
  {
   "cell_type": "code",
   "execution_count": 16,
   "metadata": {},
   "outputs": [
    {
     "data": {
      "text/plain": [
       "0.5522012578616352"
      ]
     },
     "execution_count": 16,
     "metadata": {},
     "output_type": "execute_result"
    }
   ],
   "source": [
    "toxic_gay = train_df[(train_df.toxic==1)&(train_df.comment_text.str.contains('gay'))].shape[0]\n",
    "total_gay = train_df[train_df.comment_text.str.contains('gay')].shape[0]\n",
    "toxic_gay/total_gay"
   ]
  },
  {
   "cell_type": "code",
   "execution_count": null,
   "metadata": {},
   "outputs": [],
   "source": []
  },
  {
   "cell_type": "code",
   "execution_count": 9,
   "metadata": {},
   "outputs": [
    {
     "data": {
      "text/plain": [
       "439"
      ]
     },
     "execution_count": 9,
     "metadata": {},
     "output_type": "execute_result"
    }
   ],
   "source": [
    "train_df[(train_df.toxic==1)&(train_df.comment_text.str.contains('gay'))].shape[0]"
   ]
  },
  {
   "cell_type": "code",
   "execution_count": null,
   "metadata": {},
   "outputs": [],
   "source": [
    "# having to define tokenizer again here\n",
    "# because its not easy to pickle classes\n",
    "# and the vectorizer we need to load\n",
    "# takes it as a parameter\n",
    "\n",
    "with open('pickle_files/stop_words.pickle', 'rb') as file:\n",
    "    stop_words_complete = pickle.load(file)\n",
    "    \n",
    "class Tokenizer(object):\n",
    "    def __init__(self):\n",
    "        self.pt = PorterStemmer()\n",
    "        self.wnl = WordNetLemmatizer()\n",
    "        self.tk = RegexpTokenizer(r'\\b[a-zA-Z]{3,}\\b')\n",
    "        self.stpwrd = set(stop_words_complete)\n",
    "        \n",
    "    def __call__(self, doc):\n",
    "        return [self.wnl.lemmatize(t) for t in self.tk.tokenize(doc) if not t in self.stpwrd]\n",
    "\n",
    "my_tokenizer = Tokenizer()\n",
    "\n",
    "with open('pickle_files/vectorizer.pickle', 'rb') as file:\n",
    "    tfdif_vectorizer = pickle.load(file)\n",
    "    X_train_vect = pickle.load(file)\n",
    "    X_val_vect = pickle.load(file)\n",
    "    \n",
    "    nb = pickle.load(file)"
   ]
  },
  {
   "cell_type": "code",
   "execution_count": null,
   "metadata": {},
   "outputs": [],
   "source": [
    "test = 'gay'.split()\n",
    "\n",
    "hey = tfdif_vectorizer.transform(test)\n",
    "nb.predict(hey)"
   ]
  },
  {
   "cell_type": "code",
   "execution_count": null,
   "metadata": {},
   "outputs": [],
   "source": [
    "X_val_vect.toarray()[1,:]"
   ]
  },
  {
   "cell_type": "code",
   "execution_count": null,
   "metadata": {
    "scrolled": true
   },
   "outputs": [],
   "source": [
    "\n",
    "df, cov = get_word_covariance(tfdif_vectorizer, nb, n=100, top=True)\n",
    "neg, pos = get_class_features(tfdif_vectorizer, nb, n=100)\n",
    "temp = df.reset_index()\n",
    "temp['label'] = temp['index'].apply(lambda x: 0 if x in list(neg) else 1)\n",
    "temp\n",
    "\n",
    "# a = temp[['non_toxic_coefs', 'index']].dropna()\n",
    "# a\n",
    "df.fillna(np.log(.0000001), inplace=True)\n",
    "df['Difference'] = df['non_toxic_coefs'] - df['toxic_coefs']\n",
    "df2 = df.reset_index().copy()\n",
    "df2.rename(columns={'index':'word'},inplace=True)\n",
    "df2['label'] = df2.word.apply(lambda x: 1 if x in list(pos) else 0)\n",
    "df3 = df2.sort_values(by=['Difference'],ascending=False)\n",
    "smallest_difference = df3[(df3.Difference <= 4) & (df3.Difference>=-4)]\n",
    "fig = px.bar(smallest_difference, x='Difference', y='word', orientation='h')\n",
    "fig.update_layout(\n",
    "                   width=500,\n",
    "                   title_text=\"Coefficient Differences\",\n",
    "                   font_family=\"Times New Roman\",\n",
    "                   showlegend=True,\n",
    "                   hovermode='x')\n",
    "fig.show()"
   ]
  },
  {
   "cell_type": "code",
   "execution_count": null,
   "metadata": {},
   "outputs": [],
   "source": [
    "df"
   ]
  },
  {
   "cell_type": "code",
   "execution_count": null,
   "metadata": {},
   "outputs": [],
   "source": [
    "df3.toxic_coefs.min()"
   ]
  },
  {
   "cell_type": "code",
   "execution_count": null,
   "metadata": {
    "scrolled": true
   },
   "outputs": [],
   "source": [
    "word_num = 50\n",
    "word = 'please'\n",
    "\n",
    "df, cov = get_word_covariance(tfdif_vectorizer, nb, n=word_num, top=True)\n",
    "# cov['hate'].sort_values(ascending=False).to_frame()\n",
    "testing = cov[word].sort_values(ascending=False).to_frame().reset_index()\n",
    "\n",
    "neg, pos = get_class_features(tfdif_vectorizer, nb, n=word_num)\n",
    "testing['label'] = testing['index'].apply(lambda x: 0 if x in list(neg) else 1)"
   ]
  },
  {
   "cell_type": "code",
   "execution_count": null,
   "metadata": {},
   "outputs": [],
   "source": [
    "# neg, pos = get_class_features(tfdif_vectorizer, nb, n=10, top=True, indices=False)\n",
    "# pos"
   ]
  },
  {
   "cell_type": "code",
   "execution_count": null,
   "metadata": {},
   "outputs": [],
   "source": [
    "from sklearn.decomposition import NMF\n",
    "\n",
    "topics = 6\n",
    "cols = ['topic' + str(i) for i in range(topics)]\n",
    "nmf = NMF(n_components=topics, random_state=1,\n",
    "          alpha=.2, l1_ratio=.5).fit(X_train_vect)\n",
    "\n"
   ]
  },
  {
   "cell_type": "code",
   "execution_count": null,
   "metadata": {},
   "outputs": [],
   "source": [
    "# cols"
   ]
  },
  {
   "cell_type": "code",
   "execution_count": null,
   "metadata": {},
   "outputs": [],
   "source": [
    "with open('nmf_model.pickle', 'wb') as file:\n",
    "    # pickling vectorizer and vectorized data\n",
    "    pickle.dump(nmf, file)"
   ]
  },
  {
   "cell_type": "code",
   "execution_count": null,
   "metadata": {},
   "outputs": [],
   "source": [
    "def get_topic_words(model, feature_names, n_top_words):\n",
    "    topic_words = []\n",
    "    for topic_idx, topic in enumerate(model.components_):\n",
    "        message = \"\"\n",
    "        message += \" \".join([feature_names[i]\n",
    "                             for i in topic.argsort()[:-n_top_words - 1:-1]])\n",
    "        topic_words.append(message)\n",
    "    return topic_words"
   ]
  },
  {
   "cell_type": "code",
   "execution_count": null,
   "metadata": {
    "scrolled": true
   },
   "outputs": [],
   "source": [
    "# all_topic_words[1]\n",
    "nmf.components_.shape"
   ]
  },
  {
   "cell_type": "code",
   "execution_count": null,
   "metadata": {
    "scrolled": false
   },
   "outputs": [],
   "source": [
    "tfidf_feature_names = tfdif_vectorizer.get_feature_names()\n",
    "n_top_words = 1000\n",
    "all_topic_words = get_topic_words(nmf, tfidf_feature_names, n_top_words)  \n",
    "# all_topic_words\n",
    "\n",
    "\n",
    "# import re\n",
    "# from collections import defaultdict\n",
    "# def get_topic_matches(input_str):\n",
    "#     idxs = []\n",
    "#     for item in all_topic_words:\n",
    "#         if input_str in item:\n",
    "#             idxs.append(all_topic_words.index(item))\n",
    "\n",
    "#     matches = []\n",
    "#     for i in idxs:\n",
    "#         # finding surrounding words with re i know its sloppy but deadlines\n",
    "#         sub = '(\\w*)\\W*(\\w*)\\W*(\\w*)\\W*(\\w*)\\W*({})\\W*(\\w*)\\W*(\\w*)\\W*(\\w*)\\W*(\\w*)'.format(input_str)\n",
    "#         str1 = all_topic_words[i]\n",
    "#         #printing the topic we are on\n",
    "#         for j in re.findall(sub, str1, re.I):\n",
    "#             words = \" \".join([x for x in j if x != \"\"])\n",
    "#             matches.append([str(i), words])\n",
    "            \n",
    "            \n",
    "#     return matches\n",
    "\n",
    "# pd.set_option('display.max_colwidth', None)\n",
    "# df = pd.DataFrame(get_topic_matches('hate'))\n",
    "# df.columns = ['topic', 'nearest_words']\n",
    "# # f = pd.DataFrame([[k] + v[0] for k, v in a.items()], \n",
    "# #                    columns=['id', 'score'])\n",
    "# df\n"
   ]
  },
  {
   "cell_type": "code",
   "execution_count": null,
   "metadata": {},
   "outputs": [],
   "source": [
    "_str = 'fuck'\n",
    "# def get_surrounding_words(your_str):\n",
    "    \n",
    "idxs = []\n",
    "for item in all_topic_words:\n",
    "    if _str in item:\n",
    "        idxs.append(all_topic_words.index(item))\n",
    "        \n",
    "for i in idxs:\n",
    "    print(all_topic_words[i])\n",
    "    print()\n"
   ]
  },
  {
   "cell_type": "code",
   "execution_count": null,
   "metadata": {},
   "outputs": [],
   "source": [
    "# topic_df = pd.DataFrame(nmf.components_, index=cols, columns=tfdif_vectorizer.get_feature_names()).T\n",
    "# neg, pos = get_class_features(tfdif_vectorizer, nb, n=20, top=True)\n",
    "# topic_formatted = topic_df.T[neg].T\n",
    "# topic_formatted.head()"
   ]
  },
  {
   "cell_type": "code",
   "execution_count": null,
   "metadata": {},
   "outputs": [],
   "source": []
  },
  {
   "cell_type": "code",
   "execution_count": null,
   "metadata": {},
   "outputs": [],
   "source": [
    "# import seaborn as sns\n",
    "\n",
    "# def graph_topic(words,topic=1):\n",
    "#     topic_formatted = topic_df.T[words].T\n",
    "#     cols = 'topic'+str(topic)\n",
    "#     plt.figure(figsize=[5,12])\n",
    "#     plt.barh(topic_formatted.index, topic_formatted[cols])\n",
    "        \n",
    "# graph_topic(pos,8)\n",
    "\n",
    "# from sklearn.decomposition import NMF\n",
    "\n",
    "# topics = 10\n",
    "# cols = ['topic' + str(i) for i in range(topics)]\n",
    "# nmf = NMF(n_components=topics, random_state=1,\n",
    "#           alpha=.1, l1_ratio=.5).fit(X_train_vect)"
   ]
  },
  {
   "cell_type": "code",
   "execution_count": null,
   "metadata": {},
   "outputs": [],
   "source": [
    "# topic_df = pd.DataFrame(nmf.components_, index=cols, columns=tfdif_vectorizer.get_feature_names()).T\n",
    "# neg, pos = get_class_features(tfdif_vectorizer, nb, n=100, top=True)\n",
    "# all_words = list(neg) + list(pos)\n",
    "\n",
    "# topic_formatted = topic_df.T[all_words].T.reset_index()\n",
    "# topic_formatted.rename(columns={'index':'word'},inplace=True)\n",
    "# topic_formatted['toxic'] = topic_formatted.word.apply(lambda x: predict_label(x))\n",
    "# topic_formatted.head()"
   ]
  },
  {
   "cell_type": "code",
   "execution_count": null,
   "metadata": {},
   "outputs": [],
   "source": [
    "topic_formatted['topic3'].max()"
   ]
  },
  {
   "cell_type": "code",
   "execution_count": null,
   "metadata": {},
   "outputs": [],
   "source": [
    "def predict_label(word):\n",
    "    word_formatted = word.split()\n",
    "    vectorized_word = tfdif_vectorizer.transform(word_formatted)\n",
    "    return nb.predict(vectorized_word)[0]"
   ]
  },
  {
   "cell_type": "code",
   "execution_count": null,
   "metadata": {
    "scrolled": true
   },
   "outputs": [],
   "source": [
    "topic_df = pd.DataFrame(nmf.components_, index=cols, columns=tfdif_vectorizer.get_feature_names()).T\n",
    "neg, pos = get_class_features(tfdif_vectorizer, nb, n=100, top=True)\n",
    "all_words = list(neg) + list(pos)\n",
    "\n",
    "topic_formatted = topic_df.T[all_words].T.reset_index()\n",
    "topic_formatted.rename(columns={'index':'word'},inplace=True)\n",
    "topic_formatted['toxic'] = topic_formatted.word.apply(lambda x: predict_label(x))\n",
    "topic_formatted.head()"
   ]
  },
  {
   "cell_type": "code",
   "execution_count": null,
   "metadata": {},
   "outputs": [],
   "source": [
    "def predict_label(word):\n",
    "    word_formatted = word.split()\n",
    "    vectorized_word = tfdif_vectorizer.transform(word_formatted)\n",
    "    return nb.predict(vectorized_word)"
   ]
  },
  {
   "cell_type": "code",
   "execution_count": null,
   "metadata": {},
   "outputs": [],
   "source": [
    "predict_label('i want to hurt you badly you butt')"
   ]
  },
  {
   "cell_type": "code",
   "execution_count": null,
   "metadata": {},
   "outputs": [],
   "source": [
    "topic_df = pd.DataFrame(nmf.components_, index=cols, columns=tfdif_vectorizer.get_feature_names()).T\n",
    "neg, pos = get_class_features(tfdif_vectorizer, nb, n=100, top=True)\n",
    "all_words = list(set(list(neg) + list(pos)))\n",
    "\n",
    "topic_formatted = topic_df.T[all_words].T.reset_index()\n",
    "topic_formatted.rename(columns={'index':'word'},inplace=True)\n",
    "topic_formatted['toxic'] = topic_formatted.word.apply(lambda x: predict_label(x))\n",
    "topic_formatted.head()\n",
    "\n",
    "topic=1\n",
    "topic_col = 'topic'+str(topic)\n",
    "filtered_topics = topic_formatted.sort_values(by=[topic_col], ascending=False).head(10)"
   ]
  },
  {
   "cell_type": "code",
   "execution_count": null,
   "metadata": {},
   "outputs": [],
   "source": [
    "filtered_topics"
   ]
  },
  {
   "cell_type": "code",
   "execution_count": null,
   "metadata": {},
   "outputs": [],
   "source": [
    "topic_df = pd.DataFrame(nmf.components_, index=cols, columns=tfdif_vectorizer.get_feature_names()).T\n",
    "neg, pos = get_class_features(tfdif_vectorizer, nb, n=100, top=True)\n",
    "all_words = list(set(list(neg) + list(pos)))\n",
    "\n",
    "topic_formatted = topic_df.T[all_words].T.reset_index()\n",
    "topic_formatted.rename(columns={'index':'word'},inplace=True)\n",
    "topic_formatted['toxic'] = topic_formatted.word.apply(lambda x: predict_label(x))\n",
    "topic_formatted.head()\n",
    "\n",
    "topic=1\n",
    "topic_col = 'topic'+str(topic)\n",
    "filtered_topics = topic_formatted.sort_values(by=[topic_col], ascending=False).head(25)\n",
    "\n",
    "fig = px.bar(y=filtered_topics.word,\n",
    "             x=filtered_topics[topic_col],\n",
    "#              color=filtered_topics.toxic,\n",
    "             orientation='h',\n",
    "             width=500,\n",
    "             height=500)\n",
    "fig.show()"
   ]
  },
  {
   "cell_type": "code",
   "execution_count": null,
   "metadata": {},
   "outputs": [],
   "source": [
    "topic_formatted.word"
   ]
  },
  {
   "cell_type": "code",
   "execution_count": null,
   "metadata": {},
   "outputs": [],
   "source": [
    "import plotly.express as px\n",
    "topic=7\n",
    "\n",
    "topic_col = 'topic'+str(topic)\n",
    "fig = px.bar(y=topic_formatted.word, x=topic_formatted[topic_col], color=topic_formatted.toxic, orientation='h', width=500)\n",
    "fig.show()"
   ]
  },
  {
   "cell_type": "code",
   "execution_count": null,
   "metadata": {},
   "outputs": [],
   "source": [
    "'get' in pos"
   ]
  },
  {
   "cell_type": "code",
   "execution_count": null,
   "metadata": {},
   "outputs": [],
   "source": [
    "pred"
   ]
  }
 ],
 "metadata": {
  "kernelspec": {
   "display_name": "Python 3",
   "language": "python",
   "name": "python3"
  },
  "language_info": {
   "codemirror_mode": {
    "name": "ipython",
    "version": 3
   },
   "file_extension": ".py",
   "mimetype": "text/x-python",
   "name": "python",
   "nbconvert_exporter": "python",
   "pygments_lexer": "ipython3",
   "version": "3.7.4"
  }
 },
 "nbformat": 4,
 "nbformat_minor": 4
}
