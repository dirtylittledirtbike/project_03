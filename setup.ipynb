{
 "cells": [
  {
   "cell_type": "code",
   "execution_count": 317,
   "metadata": {},
   "outputs": [],
   "source": [
    "import pandas as pd\n",
    "import numpy as np\n",
    "import re\n",
    "from urlextract import URLExtract\n",
    "import matplotlib.pyplot as plt\n",
    "extractor = URLExtract()"
   ]
  },
  {
   "cell_type": "code",
   "execution_count": 318,
   "metadata": {},
   "outputs": [],
   "source": [
    "train_df = pd.read_csv('/Users/collinswestnedge/programming/Metis_Online/project_03/data/jigsaw-toxic-comment-classification-challenge/train.csv')\n",
    "test_df_labels = pd.read_csv('/Users/collinswestnedge/programming/Metis_Online/project_03/data/jigsaw-toxic-comment-classification-challenge/test_labels.csv')\n",
    "test_df = pd.read_csv('/Users/collinswestnedge/programming/Metis_Online/project_03/data/jigsaw-toxic-comment-classification-challenge/test.csv')"
   ]
  },
  {
   "cell_type": "code",
   "execution_count": 319,
   "metadata": {
    "scrolled": true
   },
   "outputs": [],
   "source": [
    "# train_df = pd.read_csv('/Users/collinswestnedge/programming/Metis_Online/project_03/data/tweet-sentiment-extraction/train.csv')\n",
    "# test_df = pd.read_csv('/Users/collinswestnedge/programming/Metis_Online/project_03/data/tweet-sentiment-extraction/test.csv')\n",
    "# train_df"
   ]
  },
  {
   "cell_type": "code",
   "execution_count": 320,
   "metadata": {},
   "outputs": [],
   "source": [
    "# replacing the -1 labels in test labels and \n",
    "# and joining it with the test.csv \n",
    "test_labels_temp = test_df_labels.replace(-1,np.nan)\n",
    "test_labels_clean = test_labels_temp.dropna()\n",
    "test_data = test_df.merge(test_labels_clean)"
   ]
  },
  {
   "cell_type": "code",
   "execution_count": 321,
   "metadata": {},
   "outputs": [
    {
     "data": {
      "text/html": [
       "<div>\n",
       "<style scoped>\n",
       "    .dataframe tbody tr th:only-of-type {\n",
       "        vertical-align: middle;\n",
       "    }\n",
       "\n",
       "    .dataframe tbody tr th {\n",
       "        vertical-align: top;\n",
       "    }\n",
       "\n",
       "    .dataframe thead th {\n",
       "        text-align: right;\n",
       "    }\n",
       "</style>\n",
       "<table border=\"1\" class=\"dataframe\">\n",
       "  <thead>\n",
       "    <tr style=\"text-align: right;\">\n",
       "      <th></th>\n",
       "      <th>id</th>\n",
       "      <th>comment_text</th>\n",
       "      <th>toxic</th>\n",
       "      <th>severe_toxic</th>\n",
       "      <th>obscene</th>\n",
       "      <th>threat</th>\n",
       "      <th>insult</th>\n",
       "      <th>identity_hate</th>\n",
       "    </tr>\n",
       "  </thead>\n",
       "  <tbody>\n",
       "    <tr>\n",
       "      <th>0</th>\n",
       "      <td>0001ea8717f6de06</td>\n",
       "      <td>Thank you for understanding. I think very high...</td>\n",
       "      <td>0.0</td>\n",
       "      <td>0.0</td>\n",
       "      <td>0.0</td>\n",
       "      <td>0.0</td>\n",
       "      <td>0.0</td>\n",
       "      <td>0.0</td>\n",
       "    </tr>\n",
       "    <tr>\n",
       "      <th>1</th>\n",
       "      <td>000247e83dcc1211</td>\n",
       "      <td>:Dear god this site is horrible.</td>\n",
       "      <td>0.0</td>\n",
       "      <td>0.0</td>\n",
       "      <td>0.0</td>\n",
       "      <td>0.0</td>\n",
       "      <td>0.0</td>\n",
       "      <td>0.0</td>\n",
       "    </tr>\n",
       "    <tr>\n",
       "      <th>2</th>\n",
       "      <td>0002f87b16116a7f</td>\n",
       "      <td>\"::: Somebody will invariably try to add Relig...</td>\n",
       "      <td>0.0</td>\n",
       "      <td>0.0</td>\n",
       "      <td>0.0</td>\n",
       "      <td>0.0</td>\n",
       "      <td>0.0</td>\n",
       "      <td>0.0</td>\n",
       "    </tr>\n",
       "    <tr>\n",
       "      <th>3</th>\n",
       "      <td>0003e1cccfd5a40a</td>\n",
       "      <td>\" \\n\\n It says it right there that it IS a typ...</td>\n",
       "      <td>0.0</td>\n",
       "      <td>0.0</td>\n",
       "      <td>0.0</td>\n",
       "      <td>0.0</td>\n",
       "      <td>0.0</td>\n",
       "      <td>0.0</td>\n",
       "    </tr>\n",
       "    <tr>\n",
       "      <th>4</th>\n",
       "      <td>00059ace3e3e9a53</td>\n",
       "      <td>\" \\n\\n == Before adding a new product to the l...</td>\n",
       "      <td>0.0</td>\n",
       "      <td>0.0</td>\n",
       "      <td>0.0</td>\n",
       "      <td>0.0</td>\n",
       "      <td>0.0</td>\n",
       "      <td>0.0</td>\n",
       "    </tr>\n",
       "    <tr>\n",
       "      <th>...</th>\n",
       "      <td>...</td>\n",
       "      <td>...</td>\n",
       "      <td>...</td>\n",
       "      <td>...</td>\n",
       "      <td>...</td>\n",
       "      <td>...</td>\n",
       "      <td>...</td>\n",
       "      <td>...</td>\n",
       "    </tr>\n",
       "    <tr>\n",
       "      <th>63973</th>\n",
       "      <td>fff8f64043129fa2</td>\n",
       "      <td>:Jerome, I see you never got around to this…! ...</td>\n",
       "      <td>0.0</td>\n",
       "      <td>0.0</td>\n",
       "      <td>0.0</td>\n",
       "      <td>0.0</td>\n",
       "      <td>0.0</td>\n",
       "      <td>0.0</td>\n",
       "    </tr>\n",
       "    <tr>\n",
       "      <th>63974</th>\n",
       "      <td>fff9d70fe0722906</td>\n",
       "      <td>==Lucky bastard== \\n http://wikimediafoundatio...</td>\n",
       "      <td>0.0</td>\n",
       "      <td>0.0</td>\n",
       "      <td>0.0</td>\n",
       "      <td>0.0</td>\n",
       "      <td>0.0</td>\n",
       "      <td>0.0</td>\n",
       "    </tr>\n",
       "    <tr>\n",
       "      <th>63975</th>\n",
       "      <td>fffa8a11c4378854</td>\n",
       "      <td>==shame on you all!!!== \\n\\n You want to speak...</td>\n",
       "      <td>0.0</td>\n",
       "      <td>0.0</td>\n",
       "      <td>0.0</td>\n",
       "      <td>0.0</td>\n",
       "      <td>0.0</td>\n",
       "      <td>0.0</td>\n",
       "    </tr>\n",
       "    <tr>\n",
       "      <th>63976</th>\n",
       "      <td>fffac2a094c8e0e2</td>\n",
       "      <td>MEL GIBSON IS A NAZI BITCH WHO MAKES SHITTY MO...</td>\n",
       "      <td>1.0</td>\n",
       "      <td>0.0</td>\n",
       "      <td>1.0</td>\n",
       "      <td>0.0</td>\n",
       "      <td>1.0</td>\n",
       "      <td>0.0</td>\n",
       "    </tr>\n",
       "    <tr>\n",
       "      <th>63977</th>\n",
       "      <td>fffb5451268fb5ba</td>\n",
       "      <td>\" \\n\\n == Unicorn lair discovery == \\n\\n Suppo...</td>\n",
       "      <td>0.0</td>\n",
       "      <td>0.0</td>\n",
       "      <td>0.0</td>\n",
       "      <td>0.0</td>\n",
       "      <td>0.0</td>\n",
       "      <td>0.0</td>\n",
       "    </tr>\n",
       "  </tbody>\n",
       "</table>\n",
       "<p>63978 rows × 8 columns</p>\n",
       "</div>"
      ],
      "text/plain": [
       "                     id                                       comment_text  \\\n",
       "0      0001ea8717f6de06  Thank you for understanding. I think very high...   \n",
       "1      000247e83dcc1211                   :Dear god this site is horrible.   \n",
       "2      0002f87b16116a7f  \"::: Somebody will invariably try to add Relig...   \n",
       "3      0003e1cccfd5a40a  \" \\n\\n It says it right there that it IS a typ...   \n",
       "4      00059ace3e3e9a53  \" \\n\\n == Before adding a new product to the l...   \n",
       "...                 ...                                                ...   \n",
       "63973  fff8f64043129fa2  :Jerome, I see you never got around to this…! ...   \n",
       "63974  fff9d70fe0722906  ==Lucky bastard== \\n http://wikimediafoundatio...   \n",
       "63975  fffa8a11c4378854  ==shame on you all!!!== \\n\\n You want to speak...   \n",
       "63976  fffac2a094c8e0e2  MEL GIBSON IS A NAZI BITCH WHO MAKES SHITTY MO...   \n",
       "63977  fffb5451268fb5ba  \" \\n\\n == Unicorn lair discovery == \\n\\n Suppo...   \n",
       "\n",
       "       toxic  severe_toxic  obscene  threat  insult  identity_hate  \n",
       "0        0.0           0.0      0.0     0.0     0.0            0.0  \n",
       "1        0.0           0.0      0.0     0.0     0.0            0.0  \n",
       "2        0.0           0.0      0.0     0.0     0.0            0.0  \n",
       "3        0.0           0.0      0.0     0.0     0.0            0.0  \n",
       "4        0.0           0.0      0.0     0.0     0.0            0.0  \n",
       "...      ...           ...      ...     ...     ...            ...  \n",
       "63973    0.0           0.0      0.0     0.0     0.0            0.0  \n",
       "63974    0.0           0.0      0.0     0.0     0.0            0.0  \n",
       "63975    0.0           0.0      0.0     0.0     0.0            0.0  \n",
       "63976    1.0           0.0      1.0     0.0     1.0            0.0  \n",
       "63977    0.0           0.0      0.0     0.0     0.0            0.0  \n",
       "\n",
       "[63978 rows x 8 columns]"
      ]
     },
     "execution_count": 321,
     "metadata": {},
     "output_type": "execute_result"
    }
   ],
   "source": [
    "test_data"
   ]
  },
  {
   "cell_type": "code",
   "execution_count": 322,
   "metadata": {},
   "outputs": [],
   "source": [
    "# test_df.merge(test_df_labels).groupby('toxic').size()"
   ]
  },
  {
   "cell_type": "code",
   "execution_count": 323,
   "metadata": {},
   "outputs": [],
   "source": [
    "def preprocess(data):\n",
    "    \n",
    "    def replace_urls(x):\n",
    "        urls = extractor.find_urls(x)\n",
    "        if urls:\n",
    "            x_new = replace_urls(x.replace(urls[0],''))\n",
    "            return x_new\n",
    "        else:\n",
    "            return x\n",
    "\n",
    "    data['comment_text'] = data.comment_text.map(lambda x: replace_urls(x))\n",
    "    #get rid of duplicate letters just trying this out may comment out later\n",
    "    data['comment_text'] = data.comment_text.map(lambda x: re.sub(r'(.)\\1{2,}', '', str(x).lower()))\n",
    "    # removing indents\n",
    "    data['comment_text'] = data.comment_text.map(lambda x: re.sub('\\\\n',' ',str(x)))\n",
    "    # remove weird user occurence \n",
    "    data['comment_text'] = data.comment_text.map(lambda x: re.sub(\"\\[\\[User.*\",'',str(x)))\n",
    "    # remove ip address\n",
    "    data['comment_text'] = data.comment_text.map(lambda x: re.sub(\"\\d{1,3}\\.\\d{1,3}\\.\\d{1,3}\\.\\d{1,3}\",'',str(x)))\n",
    "    \n",
    "    return data\n",
    "    \n",
    "    \n",
    "    "
   ]
  },
  {
   "cell_type": "code",
   "execution_count": 324,
   "metadata": {},
   "outputs": [],
   "source": [
    "from sklearn.metrics import roc_auc_score\n",
    "from sklearn.metrics import plot_roc_curve"
   ]
  },
  {
   "cell_type": "code",
   "execution_count": 325,
   "metadata": {},
   "outputs": [],
   "source": [
    "def get_metrics(classifier, X_train, y_train, X_test, y_test, plot_curve=False):\n",
    "    \n",
    "    # literally making this for my own practice \n",
    "    # i know theres a lot quicker/simpler ways\n",
    "    \n",
    "    model = classifier\n",
    "    model.fit(X_train, y_train)\n",
    "    preds = model.predict(X_test)\n",
    "    actuals = y_test\n",
    "    \n",
    "    print('-'*20 + ' ' + type(model).__name__  + ' ' + '-'*20)\n",
    "        \n",
    "\n",
    "    err_df = pd.DataFrame({'pred':preds, 'actual':actuals})\n",
    "\n",
    "    TP = err_df.actual[(err_df.actual==1) & (err_df.pred==1)].count()\n",
    "    print('TP: ', TP)\n",
    "    # False Positives:\n",
    "    FP = err_df.actual[(err_df.actual==0) & (err_df.pred==1)].count()\n",
    "    print('FP: ', FP)\n",
    "    # #True Negatives:\n",
    "    TN = err_df.actual[(err_df.actual==0) & (err_df.pred==0)].count()\n",
    "    print('TN: ', TN)\n",
    "    #False Negatives:\n",
    "    FN = err_df.actual[(err_df.actual==1) & (err_df.pred==0)].count()\n",
    "    print('FN: ', FN)\n",
    "    print()\n",
    "\n",
    "    precision = TP/(TP+FP)\n",
    "    recall =  TP/(TP+FN)\n",
    "    print('Precision:', precision)\n",
    "    print('Recall:', recall)\n",
    "    print('Accuracy:', model.score(X_test, y_test))\n",
    "    print('F1 Score:', 2*((precision*recall)/(precision+recall)))\n",
    "    \n",
    "    if plot_curve:\n",
    "        print('Area Under ROC Curve:', roc_auc_score(y_test, model.predict_proba(X_test)[:,1]))\n",
    "        fig, ax = plt.subplots(figsize=(6,4))\n",
    "        test_disp = plot_roc_curve(model, X_test, y_test, ax=ax, color='red', linewidth=3)\n",
    "        plt.show()"
   ]
  },
  {
   "cell_type": "code",
   "execution_count": 326,
   "metadata": {},
   "outputs": [],
   "source": [
    "train_clean = preprocess(train_df)"
   ]
  },
  {
   "cell_type": "code",
   "execution_count": null,
   "metadata": {},
   "outputs": [],
   "source": [
    "test_clean = preprocess(test_data)"
   ]
  },
  {
   "cell_type": "code",
   "execution_count": null,
   "metadata": {},
   "outputs": [],
   "source": [
    "# ---------------------- playing with count vectorizer ------------------------"
   ]
  },
  {
   "cell_type": "code",
   "execution_count": null,
   "metadata": {
    "scrolled": false
   },
   "outputs": [],
   "source": [
    "from nltk import RegexpTokenizer\n",
    "from nltk import word_tokenize\n",
    "from nltk.stem import WordNetLemmatizer \n",
    "from nltk.stem import PorterStemmer\n",
    "from nltk.corpus import stopwords\n",
    "\n",
    "\n",
    "# stemmer = PorterStemmer()\n",
    "# lemma = WordNetLemmatizer()\n",
    "# text = train_clean.comment_text.values[40]\n",
    "# token = RegexpTokenizer(r'\\b[a-zA-Z]{3,}\\b')\n",
    "# stop_words = set(stopwords.words('english'))\n",
    "\n",
    "# print(text)\n",
    "# print()\n",
    "# print('stemmer',[stemmer.stem(val) for val in word_tokenize(text) if val not in stop_words])\n",
    "# print()\n",
    "# print('lemmatizer', [lemma.lemmatize(val) for val in word_tokenize(text) if val not in stop_words])\n",
    "\n",
    "# print()\n",
    "# print('stemmer',[stemmer.stem(val) for val in token.tokenize(text) if val not in stop_words])\n",
    "# print()\n",
    "# print('lemmatizer', [lemma.lemmatize(val) for val in token.tokenize(text) if val not in stop_words])"
   ]
  },
  {
   "cell_type": "code",
   "execution_count": null,
   "metadata": {},
   "outputs": [],
   "source": [
    "# found sorted/ the highest coefficients for both labels and then\n",
    "# looked where the the difference between the \n",
    "new_stop_words = ['anything',\n",
    " 'person',\n",
    " 'day',\n",
    " 'even',\n",
    " 'wrong',\n",
    " 'said',\n",
    " 'personal',\n",
    " 'message',\n",
    " 'site',\n",
    " 'vandalism',\n",
    " 'thing',\n",
    " 'keep',\n",
    " 'right',\n",
    " 'really',\n",
    " 'know',\n",
    " 'make',\n",
    " 'back',\n",
    " 'let',\n",
    " 'put',\n",
    " 'take',\n",
    " 'better',\n",
    " 'something',\n",
    " 'mean',\n",
    " 'say',\n",
    " 'want',\n",
    " 'never',\n",
    " 'think',\n",
    " 'fact',\n",
    " 'time',\n",
    " 'attack',\n",
    " 'warning',\n",
    " 'world',\n",
    " 'blocked',\n",
    " 'still',\n",
    " 'got',\n",
    " 'edits',\n",
    " 'someone',\n",
    " 'way',\n",
    " 'people',\n",
    " 'going',\n",
    " 'well',\n",
    " 'come',\n",
    " 'user',\n",
    " 'one',\n",
    " 'like',\n",
    " 'look',\n",
    " 'change',\n",
    " 'much',\n",
    " 'good',\n",
    " 'tell',\n",
    " 'day',\n",
    " 'even',\n",
    " 'said',\n",
    " 'vandalism',\n",
    " 'thing',\n",
    " 'keep',\n",
    " 'right',\n",
    " 'really',\n",
    " 'know',\n",
    " 'make',\n",
    " 'back',\n",
    " 'let',\n",
    " 'put',\n",
    " 'take',\n",
    " 'better',\n",
    " 'something',\n",
    " 'mean',\n",
    " 'say',\n",
    " 'want',\n",
    " 'think',\n",
    " 'fact',\n",
    " 'time',\n",
    " 'blocked',\n",
    " 'still',\n",
    " 'edits',\n",
    " 'someone',\n",
    " 'way',\n",
    " 'people',\n",
    " 'going',\n",
    " 'well',\n",
    " 'word',\n",
    " 'user',\n",
    " 'one',\n",
    " 'like',\n",
    " 'look',\n",
    " 'change',\n",
    " 'much',\n",
    " 'good',\n",
    " 'comment',\n",
    " 'read',\n",
    " 'many',\n",
    " 'reason',\n",
    " 'sorry',\n",
    " 'page',\n",
    " 'need',\n",
    " 'made',\n",
    " 'edit',\n",
    " 'place',\n",
    " 'name',\n",
    " 'block',\n",
    " 'wikipedia',\n",
    " 'wiki']"
   ]
  },
  {
   "cell_type": "code",
   "execution_count": null,
   "metadata": {},
   "outputs": [],
   "source": [
    "stop_words_complete = stopwords.words('english') + new_stop_words\n",
    "\n",
    "class Tokenizer(object):\n",
    "    def __init__(self):\n",
    "        self.pt = PorterStemmer()\n",
    "        self.wnl = WordNetLemmatizer()\n",
    "        self.tk = RegexpTokenizer(r'\\b[a-zA-Z]{3,}\\b')\n",
    "        self.stpwrd = set(stop_words_complete)\n",
    "        \n",
    "    def __call__(self, doc):\n",
    "        return [self.wnl.lemmatize(t) for t in self.tk.tokenize(doc) if not t in self.stpwrd]\n",
    "\n",
    "my_tokenizer = Tokenizer()"
   ]
  },
  {
   "cell_type": "code",
   "execution_count": null,
   "metadata": {},
   "outputs": [],
   "source": [
    "# train_df.sentiment_neutral.value_counts(normalize=True)"
   ]
  },
  {
   "cell_type": "code",
   "execution_count": null,
   "metadata": {},
   "outputs": [],
   "source": [
    "from sklearn.model_selection import StratifiedKFold\n",
    "from sklearn.feature_extraction.text import TfidfVectorizer\n",
    "from sklearn.naive_bayes import MultinomialNB \n",
    "from sklearn.metrics import accuracy_score\n",
    "from sklearn.model_selection import train_test_split\n"
   ]
  },
  {
   "cell_type": "code",
   "execution_count": null,
   "metadata": {
    "scrolled": true
   },
   "outputs": [],
   "source": [
    "# X, y = train_clean['comment_text'], train_clean['toxic']\n",
    "# # X, y = train_df['text'], train_df['sentiment_positive']\n",
    "\n",
    "# # X, y = train_balanced['comment_text'], train_balanced['toxic']\n",
    "\n",
    "# metrics = []\n",
    "# skf = StratifiedKFold(n_splits=5)\n",
    "# for train_index, test_index in skf.split(X, y):\n",
    "    \n",
    "#     X_train, X_val = X.iloc[train_index], X.iloc[test_index]\n",
    "#     y_train, y_val = y.iloc[train_index], y.iloc[test_index]\n",
    "\n",
    "    \n",
    "#     vect = TfidfVectorizer(\n",
    "\n",
    "# #                           lowercase = True,\n",
    "# #                           token_pattern=None,\n",
    "# #                           tokenizer=my_tokenizer,\n",
    "# #                           ngram_range=(1, 1), \n",
    "# #                           max_features=30000\n",
    "        \n",
    "#                           lowercase = True,\n",
    "#                           strip_accents='unicode',\n",
    "#                           stop_words=stop_words_complete,\n",
    "#                           analyzer='word',\n",
    "#                           token_pattern = r'\\b[a-zA-Z]{3,}\\b',\n",
    "#                           ngram_range = (1,1),\n",
    "#                           max_features=8000\n",
    "#                           )\n",
    "    \n",
    "#     X_train_vect = vect.fit_transform(X_train)\n",
    "#     X_val_vect = vect.transform(X_val)\n",
    "    \n",
    "#     nb = MultinomialNB()\n",
    "#     nb.fit(X_train_vect, y_train)\n",
    "\n",
    "#     y_pred_class = nb.predict(X_val_vect)\n",
    "#     metrics.append(accuracy_score(y_val, y_pred_class))\n",
    "\n",
    "# metrics = np.array(metrics)\n",
    "# print('Mean accuracy: ', np.mean(metrics, axis=0))\n",
    "# print('Std for accuracy: ', np.std(metrics, axis=0))"
   ]
  },
  {
   "cell_type": "code",
   "execution_count": null,
   "metadata": {},
   "outputs": [],
   "source": [
    "# def vectorize_data()"
   ]
  },
  {
   "cell_type": "code",
   "execution_count": null,
   "metadata": {
    "scrolled": true
   },
   "outputs": [],
   "source": [
    "X, y = train_clean['comment_text'], train_clean['toxic']\n",
    "X_train, X_val, y_train, y_val = train_test_split(X, y, test_size=0.20, random_state=1)\n",
    "\n",
    "vect = TfidfVectorizer(\n",
    "\n",
    "                      lowercase = True,\n",
    "                      token_pattern=None,\n",
    "                      tokenizer=my_tokenizer,\n",
    "                      ngram_range=(1, 1),\n",
    "                      max_features=8000\n",
    "\n",
    "#                       lowercase = True,\n",
    "#                       strip_accents='unicode',\n",
    "#                       stop_words='english',\n",
    "#                       analyzer='word',\n",
    "#                       token_pattern = r'\\b[a-zA-Z]{3,}\\b',\n",
    "#                       ngram_range = (1,1),\n",
    "#                       max_features=8000\n",
    "                      )\n",
    "\n",
    "X_train_vect = vect.fit_transform(X_train)\n",
    "X_val_vect = vect.transform(X_val)\n",
    "\n",
    "nb = MultinomialNB()\n",
    "nb.fit(X_train_vect, y_train)\n",
    "nb.score(X_val_vect, y_val)"
   ]
  },
  {
   "cell_type": "code",
   "execution_count": null,
   "metadata": {},
   "outputs": [],
   "source": [
    "get_metrics(MultinomialNB(), X_train_vect, y_train, X_val_vect, y_val, plot_curve=True)"
   ]
  },
  {
   "cell_type": "code",
   "execution_count": null,
   "metadata": {},
   "outputs": [],
   "source": [
    "# model_coefs = nb.coef_.reshape(X_vect.shape[1],)\n",
    "# # highest coefficients\n",
    "# idx = model_coefs.argsort()[-100:][::-1]\n",
    "\n",
    "# # lowest coefficients \n",
    "# # idx = model_coefs.argsort()[0:100]\n",
    "\n",
    "# features = vect.get_feature_names()\n",
    "\n",
    "# top_features = [features[idx[i]] for i in range(100)]\n",
    "# top_features"
   ]
  },
  {
   "cell_type": "code",
   "execution_count": null,
   "metadata": {},
   "outputs": [],
   "source": [
    "# top_features_df = pd.DataFrame({'features': top_features, 'coefficients':model_coefs[idx]})\n",
    "# plt.figure(figsize=[5, 20])\n",
    "# plt.bar(top_features_df.coefficients, top_features_df.features)\n",
    "# # plt.yticks(rotation=90);"
   ]
  },
  {
   "cell_type": "code",
   "execution_count": null,
   "metadata": {},
   "outputs": [],
   "source": [
    "# X_vect.toarray()[1:10,1:10]"
   ]
  },
  {
   "cell_type": "code",
   "execution_count": null,
   "metadata": {
    "scrolled": true
   },
   "outputs": [],
   "source": [
    "def get_word_covariance(word_vec, classifier, n=100, original=True):\n",
    "        \"\"\"\n",
    "        Description:\n",
    "        get covariance matrix and dataframe for words with\n",
    "        highest coefficients for each class in our trained model\n",
    "        \n",
    "        Paramters:\n",
    "        word_vec: fitted word vector,\n",
    "        classifier: trained classifier (multinomial nb)\n",
    "        n: number of top coefficients\n",
    "        original: default true returns unaltered dataframe as well\n",
    "        \n",
    "        Returns: covariance matrix of top coefficients for each word\n",
    "        dataframe of cofficients for each word.\n",
    "        \"\"\"\n",
    "        \n",
    "        neg_class_prob_sorted = classifier.feature_log_prob_[0, :].argsort()\n",
    "        pos_class_prob_sorted = classifier.feature_log_prob_[1, :].argsort()\n",
    "\n",
    "        negative_class_feats = np.take(word_vec.get_feature_names(), neg_class_prob_sorted[-n:])\n",
    "        positive_class_feats = np.take(word_vec.get_feature_names(), pos_class_prob_sorted[-n:])\n",
    "\n",
    "        neg_coefs = np.take(classifier.feature_log_prob_[0, :],neg_class_prob_sorted[-n:])\n",
    "        pos_coefs = np.take(classifier.feature_log_prob_[1, :],pos_class_prob_sorted[-n:])\n",
    "\n",
    "        pos_dict = dict(zip(positive_class_feats.tolist(), pos_coefs.tolist()))\n",
    "        neg_dict = dict(zip(negative_class_feats.tolist(), neg_coefs.tolist()))\n",
    "        \n",
    "        \n",
    "        if original:\n",
    "            df_temp = pd.DataFrame([neg_dict, pos_dict]).T\n",
    "            df_temp.columns = ['non_toxic_coefs', 'toxic_coefs']\n",
    "            return df_temp\n",
    "        else:\n",
    "        \n",
    "            df = pd.DataFrame([neg_dict, pos_dict]).fillna(0.000001)\n",
    "\n",
    "            df_temp = df.T\n",
    "            df_temp.columns = ['non_toxic_coefs', 'toxic_coefs']\n",
    "\n",
    "            df_scaled = df_temp - df_temp.mean()\n",
    "\n",
    "            return df_scaled, df_scaled.T.cov()"
   ]
  },
  {
   "cell_type": "code",
   "execution_count": null,
   "metadata": {},
   "outputs": [],
   "source": [
    "df = get_word_covariance(vect, nb, n=2000)\n",
    "temp = df.reset_index()\n",
    "filtered_temp = temp.sort_values(by=['toxic_coefs'], ascending=False)\n",
    "filtered_temp"
   ]
  },
  {
   "cell_type": "code",
   "execution_count": null,
   "metadata": {},
   "outputs": [],
   "source": [
    "df = get_word_covariance(vect, nb, n=2000)\n",
    "temp = df.reset_index()\n",
    "filtered_temp = temp.sort_values(by=['non_toxic_coefs'], ascending=False)\n",
    "filtered_temp"
   ]
  },
  {
   "cell_type": "code",
   "execution_count": null,
   "metadata": {
    "scrolled": false
   },
   "outputs": [],
   "source": [
    "# get highest coefficients for model\n",
    "# sort dataframe by highest toxic coefficients and THEN\n",
    "# look where coefficients have small difference for both labels\n",
    "# and use this to create stop words\n",
    "\n",
    "df = get_word_covariance(vect, nb, n=2000)\n",
    "temp = df.reset_index()\n",
    "filtered_temp = temp.sort_values(by=['toxic_coefs'], ascending=False)\n",
    "filtered_temp = filtered_temp[(filtered_temp.non_toxic_coefs.notnull()) & (filtered_temp.toxic_coefs.notnull())].head(100).copy()\n",
    "filtered_temp['coefficient_diff'] = (filtered_temp['non_toxic_coefs'] - filtered_temp['toxic_coefs'])**2\n",
    "filtered_temp.sort_values(by=['coefficient_diff'])\n"
   ]
  },
  {
   "cell_type": "code",
   "execution_count": null,
   "metadata": {},
   "outputs": [],
   "source": [
    "df = get_word_covariance(vect, nb, n=2000)\n",
    "temp = df.reset_index()\n",
    "filtered_temp = temp.sort_values(by=['non_toxic_coefs'], ascending=False)\n",
    "filtered_temp = filtered_temp[(filtered_temp.non_toxic_coefs.notnull()) & (filtered_temp.toxic_coefs.notnull())].head(100).copy()\n",
    "filtered_temp['coefficient_diff'] = (filtered_temp['non_toxic_coefs'] - filtered_temp['toxic_coefs'])**2\n",
    "filtered_temp.sort_values(by=['coefficient_diff'])"
   ]
  },
  {
   "cell_type": "code",
   "execution_count": null,
   "metadata": {
    "scrolled": true
   },
   "outputs": [],
   "source": [
    "df, cov = get_word_covariance(vect, nb, n=1000, original=False)\n",
    "df"
   ]
  },
  {
   "cell_type": "code",
   "execution_count": null,
   "metadata": {
    "scrolled": true
   },
   "outputs": [],
   "source": [
    "# from sklearn.decomposition import NMF\n",
    "\n",
    "  \n",
    "    \n",
    "# topics = 3\n",
    "# cols = ['topic' + str(i+1) for i in range(topics)]\n",
    "\n",
    "# n_samples = 2000\n",
    "# n_features = 1000\n",
    "# n_components = 5\n",
    "# n_top_words = 20\n",
    "\n",
    "# nmf = NMF(n_components=n_components, random_state=1,\n",
    "#           alpha=.1, l1_ratio=.5).fit(X_vect)\n",
    "\n",
    "\n",
    "# print(\"\\nTopics in NMF model (Frobenius norm):\")\n",
    "# tfidf_feature_names = vect.get_feature_names()\n",
    "# print_top_words(nmf, tfidf_feature_names, n_top_words)"
   ]
  },
  {
   "cell_type": "code",
   "execution_count": null,
   "metadata": {},
   "outputs": [],
   "source": [
    "# neg_class_prob_sorted = nb.feature_log_prob_[0, :].argsort()\n",
    "# pos_class_prob_sorted = nb.feature_log_prob_[1, :].argsort()\n",
    "\n",
    "# negative_class_feats = np.take(vect.get_feature_names(), neg_class_prob_sorted[-10:])\n",
    "# positive_class_feats = np.take(vect.get_feature_names(), pos_class_prob_sorted[-10:])\n",
    "\n",
    "# neg_class_prob_sorted[-10:]"
   ]
  },
  {
   "cell_type": "code",
   "execution_count": null,
   "metadata": {},
   "outputs": [],
   "source": [
    "def get_class_features(vector, classifier, n=10, top=True, indices=False):\n",
    "    if top:\n",
    "        neg_class_prob_sorted = nb.feature_log_prob_[0, :].argsort()\n",
    "        pos_class_prob_sorted = nb.feature_log_prob_[1, :].argsort()\n",
    "        \n",
    "        neg_idxs =  neg_class_prob_sorted[-n:]\n",
    "        pos_idxs = pos_class_prob_sorted[-n:]\n",
    "\n",
    "        negative_class_feats = np.take(vect.get_feature_names(), neg_idxs)\n",
    "        positive_class_feats = np.take(vect.get_feature_names(), pos_idxs)\n",
    "        \n",
    "        # return idices for highest coefficients of each class\n",
    "        if indices:\n",
    "            return neg_idxs, pos_idxs\n",
    "        else:\n",
    "            return negative_class_feats, positive_class_feats\n",
    "        \n",
    "    else:\n",
    "        neg_class_prob_sorted = nb.feature_log_prob_[0, :].argsort()\n",
    "        pos_class_prob_sorted = nb.feature_log_prob_[1, :].argsort()\n",
    "\n",
    "        neg_idxs =  neg_class_prob_sorted[:n]\n",
    "        pos_idxs = pos_class_prob_sorted[:n]\n",
    "\n",
    "        negative_class_feats = np.take(vect.get_feature_names(), neg_idxs)\n",
    "        positive_class_feats = np.take(vect.get_feature_names(), pos_idxs)\n",
    "        \n",
    "        if indices:\n",
    "            return neg_idxs, pos_idx\n",
    "        else:\n",
    "            return negative_class_feats, positive_class_feats\n",
    "    "
   ]
  },
  {
   "cell_type": "code",
   "execution_count": null,
   "metadata": {},
   "outputs": [],
   "source": [
    "from sklearn.decomposition import NMF\n",
    "\n",
    "topics = 10\n",
    "cols = ['topic' + str(i+1) for i in range(topics)]\n",
    "nmf = NMF(n_components=topics, random_state=1,\n",
    "          alpha=.1, l1_ratio=.5).fit(X_vect)\n",
    "\n",
    "topic_df = pd.DataFrame(nmf.components_, index=cols, columns=vect.get_feature_names()).T"
   ]
  },
  {
   "cell_type": "code",
   "execution_count": null,
   "metadata": {},
   "outputs": [],
   "source": [
    "neg, pos = get_class_features(vect, nb, n=80, top=True)\n",
    "topic_formatted = topic_df.T[pos].T"
   ]
  },
  {
   "cell_type": "code",
   "execution_count": null,
   "metadata": {},
   "outputs": [],
   "source": [
    "topic_formatted"
   ]
  },
  {
   "cell_type": "code",
   "execution_count": null,
   "metadata": {},
   "outputs": [],
   "source": [
    "import seaborn as sns\n",
    "\n",
    "\n",
    "def graph_topic(words,topic=[1,2]):\n",
    "    topic_formatted = topic_df.T[words].T\n",
    "    if len(topic) == 2:\n",
    "        cols = ['topic'+str(val) for val in topic]\n",
    "        plt.figure(figsize=[5,12])\n",
    "        plt.barh(topic_formatted.index, topic_formatted[cols[0]])\n",
    "        plt.barh(topic_formatted.index, topic_formatted[cols[1]])\n",
    "    else:\n",
    "        print('redo')\n",
    "# plt.xticks(rotation=90);"
   ]
  },
  {
   "cell_type": "code",
   "execution_count": null,
   "metadata": {},
   "outputs": [],
   "source": [
    "graph_topic(pos,[1,5])"
   ]
  },
  {
   "cell_type": "code",
   "execution_count": null,
   "metadata": {},
   "outputs": [],
   "source": [
    "def print_top_words(model, feature_names, n_top_words):\n",
    "    for topic_idx, topic in enumerate(model.components_):\n",
    "        message = \"Topic #%d: \" % topic_idx\n",
    "        message += \" \".join([feature_names[i]\n",
    "                             for i in topic.argsort()[:-n_top_words - 1:-1]])\n",
    "        print(message)\n",
    "    print()\n",
    "\n",
    "tfidf_feature_names = vect.get_feature_names()\n",
    "n_top_words = 30\n",
    "print_top_words(nmf, tfidf_feature_names, n_top_words)  "
   ]
  },
  {
   "cell_type": "code",
   "execution_count": null,
   "metadata": {
    "scrolled": true
   },
   "outputs": [],
   "source": [
    "from sklearn.decomposition import TruncatedSVD, PCA\n",
    "\n",
    "topics = 5\n",
    "cols = ['topic' + str(i+1) for i in range(topics)]\n",
    "svd = TruncatedSVD(n_components=topics)\n",
    "lsa = svd.fit_transform(X_vect)\n",
    "lsa_df = pd.DataFrame(lsa, columns=cols)\n",
    "lsa_df['document'] = train_df['comment_text']\n",
    "lsa_df['toxic'] = train_df.toxic\n",
    "lsa_df"
   ]
  },
  {
   "cell_type": "code",
   "execution_count": null,
   "metadata": {},
   "outputs": [],
   "source": [
    "# i think i may be indexing into these wrong look/fix later\n",
    "neg, pos = get_class_features(vect, nb, n=20, top=True, indices=True)\n",
    "lsa_df.iloc[neg]"
   ]
  },
  {
   "cell_type": "code",
   "execution_count": null,
   "metadata": {},
   "outputs": [],
   "source": [
    "pd.DataFrame(svd.components_, index=cols, columns=vect.get_feature_names()).T"
   ]
  },
  {
   "cell_type": "code",
   "execution_count": null,
   "metadata": {},
   "outputs": [],
   "source": [
    "# pca = PCA(2)\n",
    "# X = pca.fit_transform(df)"
   ]
  },
  {
   "cell_type": "code",
   "execution_count": null,
   "metadata": {},
   "outputs": [],
   "source": [
    "df, cov = get_word_covariance(vect, nb, n=100, original=False)\n",
    "cov['gay'].sort_values(ascending=False).to_frame()\n"
   ]
  },
  {
   "cell_type": "code",
   "execution_count": null,
   "metadata": {
    "scrolled": true
   },
   "outputs": [],
   "source": [
    "# testing = train_df[train_df['comment_text'].str.contains('nazi') & (train_df.toxic==1)].comment_text.values[6]\n",
    "# print(testing)\n",
    "# print('-'*100)\n",
    "# tokenized_test = np.array(my_tokenizer(testing), dtype=np.object)\n",
    "# idx = np.where(tokenized_test=='nazi')[0]\n",
    "\n",
    "# if len(idx) > 0:\n",
    "#     for item in idx:\n",
    "#         if item > 0:\n",
    "#             print(tokenized_test[item-1])\n",
    "#         print(tokenized_test[item])\n",
    "#         if item < len(tokenized_test) -1:\n",
    "#             print(tokenized_test[item+1])\n"
   ]
  },
  {
   "cell_type": "code",
   "execution_count": null,
   "metadata": {},
   "outputs": [],
   "source": [
    "# testing = train_df[train_df['comment_text'].str.contains('nazi')&(train_df.toxic==0)].comment_text.values[3]\n",
    "# print(testing[-700::])\n",
    "# print('-'*100)\n",
    "# tokenized_test = np.array(my_tokenizer(testing), dtype=np.object)\n",
    "# idx = np.where(tokenized_test=='nazi')[0]\n",
    "\n",
    "# if len(idx) > 0:\n",
    "#     for item in idx:\n",
    "#         if item > 0:\n",
    "#             print(tokenized_test[item-1])\n",
    "#         print(tokenized_test[item])\n",
    "#         if item < len(tokenized_test) -1:\n",
    "#             print(tokenized_test[item+1])\n"
   ]
  },
  {
   "cell_type": "code",
   "execution_count": 209,
   "metadata": {
    "scrolled": true
   },
   "outputs": [
    {
     "name": "stdout",
     "output_type": "stream",
     "text": [
      "-------------------- MultinomialNB --------------------\n",
      "TP:  3588\n",
      "FP:  1579\n",
      "TN:  56309\n",
      "FN:  2502\n",
      "\n",
      "Precision: 0.694406812463712\n",
      "Recall: 0.5891625615763547\n",
      "Accuracy: 0.9362124480290099\n",
      "F1 Score: 0.637470018655059\n",
      "Area Under ROC Curve: 0.9470568584508582\n"
     ]
    },
    {
     "data": {
      "image/png": "[encoded data removed]",
      "text/plain": [
       "<Figure size 432x288 with 1 Axes>"
      ]
     },
     "metadata": {
      "needs_background": "light"
     },
     "output_type": "display_data"
    }
   ],
   "source": [
    "X_holdout = test_clean.comment_text\n",
    "y_holdout = test_clean.toxic\n",
    "\n",
    "vect = TfidfVectorizer(\n",
    "\n",
    "                      lowercase = True,\n",
    "                      token_pattern=None,\n",
    "                      tokenizer=my_tokenizer,\n",
    "                      ngram_range=(1, 1),\n",
    "                      max_features=8000\n",
    "\n",
    "#                       lowercase = True,\n",
    "#                       strip_accents='unicode',\n",
    "#                       stop_words='english',\n",
    "#                       analyzer='word',\n",
    "#                       token_pattern = r'\\b[a-zA-Z]{3,}\\b',\n",
    "#                       ngram_range = (1,1),\n",
    "#                       max_features=8000\n",
    "                      )\n",
    "\n",
    "X_train_vect = vect.fit_transform(X)\n",
    "X_holdout_vect = vect.transform(X_holdout)\n",
    "\n",
    "get_metrics(MultinomialNB(), X_train_vect, y, X_holdout_vect, y_holdout, plot_curve=True)"
   ]
  },
  {
   "cell_type": "code",
   "execution_count": null,
   "metadata": {},
   "outputs": [],
   "source": [
    "# so now that we've made a meaninful improvement im going to explore what the model learned... "
   ]
  }
 ],
 "metadata": {
  "kernelspec": {
   "display_name": "Python 3",
   "language": "python",
   "name": "python3"
  },
  "language_info": {
   "codemirror_mode": {
    "name": "ipython",
    "version": 3
   },
   "file_extension": ".py",
   "mimetype": "text/x-python",
   "name": "python",
   "nbconvert_exporter": "python",
   "pygments_lexer": "ipython3",
   "version": "3.7.4"
  }
 },
 "nbformat": 4,
 "nbformat_minor": 4
}
